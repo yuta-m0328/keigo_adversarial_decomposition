{
 "cells": [
  {
   "cell_type": "code",
   "execution_count": 1,
   "metadata": {},
   "outputs": [],
   "source": [
    "import random\n",
    "\n",
    "import numpy as np\n",
    "import torch\n",
    "from torch.utils.data.dataloader import default_collate\n",
    "\n",
    "from settings import EXPERIMENTS_DIR\n",
    "from experiment import Experiment\n",
    "from utils import to_device, load_weights, load_embeddings, create_embeddings_matrix\n",
    "from vocab import Vocab\n",
    "from train import create_model\n",
    "from preprocess_train import load_dataset, create_dataset_reader"
   ]
  },
  {
   "cell_type": "code",
   "execution_count": 2,
   "metadata": {},
   "outputs": [],
   "source": [
    "def create_vocab(instances):\n",
    "    vocab = Vocab([Vocab.PAD_TOKEN, Vocab.START_TOKEN, Vocab.END_TOKEN, Vocab.UNK_TOKEN, ])\n",
    "    vocab.add_documents([inst['sentence'] for inst in instances])\n",
    "\n",
    "    style_vocab = Vocab()\n",
    "    style_vocab.add_document([inst['style'] for inst in instances])\n",
    "\n",
    "    return vocab, style_vocab\n",
    "\n"
   ]
  },
  {
   "cell_type": "code",
   "execution_count": 73,
   "metadata": {},
   "outputs": [],
   "source": [
    "exp_id = './train.32igr6n1' #英語\n",
    "# exp_id = './train.xvdnqtke' #日本語"
   ]
  },
  {
   "cell_type": "markdown",
   "metadata": {},
   "source": [
    "# Load everything"
   ]
  },
  {
   "cell_type": "code",
   "execution_count": 74,
   "metadata": {},
   "outputs": [],
   "source": [
    "exp = Experiment.load(EXPERIMENTS_DIR, exp_id)"
   ]
  },
  {
   "cell_type": "code",
   "execution_count": 75,
   "metadata": {},
   "outputs": [
    {
     "data": {
      "text/plain": [
       "TrainConfig(model_class=<class 'models.Seq2SeqMeaningStyle'>, preprocess_exp_id='preprocess.d785lil4', embedding_size=300, hidden_size=256, dropout=0.2, scheduled_sampling_ratio=0.5, pretrained_embeddings=True, trainable_embeddings=True, meaning_size=128, style_size=128, lr=0.005, weight_decay=1e-07, grad_clipping=5, D_num_iterations=10, D_loss_multiplier=1, P_loss_multiplier=10, P_bow_loss_multiplier=1, use_discriminator=True, use_predictor=True, use_predictor_bow=True, use_motivator=True, use_gauss=True, num_epochs=500, batch_size=64, best_loss='loss')"
      ]
     },
     "execution_count": 75,
     "metadata": {},
     "output_type": "execute_result"
    }
   ],
   "source": [
    "exp.config"
   ]
  },
  {
   "cell_type": "code",
   "execution_count": 32,
   "metadata": {},
   "outputs": [
    {
     "data": {
      "text/plain": [
       "'preprocess.d785lil4'"
      ]
     },
     "execution_count": 32,
     "metadata": {},
     "output_type": "execute_result"
    }
   ],
   "source": [
    "exp.config.preprocess_exp_id"
   ]
  },
  {
   "cell_type": "code",
   "execution_count": 76,
   "metadata": {},
   "outputs": [],
   "source": [
    "# preprocess_exp = Experiment.load(EXPERIMENTS_DIR, exp.config.preprocess_exp_id)\n",
    "preprocess_exp = Experiment.load(EXPERIMENTS_DIR, \"preprocess.odjd0wsl\")\n",
    "dataset_train, dataset_val, dataset_test, vocab, style_vocab, W_emb = load_dataset(preprocess_exp)"
   ]
  },
  {
   "cell_type": "code",
   "execution_count": 77,
   "metadata": {},
   "outputs": [],
   "source": [
    "dataset_reader = create_dataset_reader(preprocess_exp.config)"
   ]
  },
  {
   "cell_type": "code",
   "execution_count": 78,
   "metadata": {},
   "outputs": [
    {
     "data": {
      "text/plain": [
       "9418"
      ]
     },
     "execution_count": 78,
     "metadata": {},
     "output_type": "execute_result"
    }
   ],
   "source": [
    "len(vocab)"
   ]
  },
  {
   "cell_type": "code",
   "execution_count": 79,
   "metadata": {},
   "outputs": [],
   "source": [
    "model = create_model(exp.config, vocab, style_vocab, dataset_train.max_len, W_emb)"
   ]
  },
  {
   "cell_type": "code",
   "execution_count": 80,
   "metadata": {},
   "outputs": [
    {
     "data": {
      "text/plain": [
       "PosixPath('data/experiments/train.32igr6n1')"
      ]
     },
     "execution_count": 80,
     "metadata": {},
     "output_type": "execute_result"
    }
   ],
   "source": [
    "exp.experiment_dir"
   ]
  },
  {
   "cell_type": "code",
   "execution_count": 81,
   "metadata": {},
   "outputs": [],
   "source": [
    "load_weights(model, exp.experiment_dir.joinpath('best.th'))"
   ]
  },
  {
   "cell_type": "code",
   "execution_count": 82,
   "metadata": {},
   "outputs": [],
   "source": [
    "model = model.eval()"
   ]
  },
  {
   "cell_type": "markdown",
   "metadata": {},
   "source": [
    "## Predict"
   ]
  },
  {
   "cell_type": "code",
   "execution_count": 83,
   "metadata": {},
   "outputs": [],
   "source": [
    "def create_inputs(instances):\n",
    "    if not isinstance(instances, list):\n",
    "        instances = [instances,]\n",
    "        \n",
    "    if not isinstance(instances[0], dict):\n",
    "        sentences = [\n",
    "            dataset_reader.preprocess_sentence(dataset_reader.spacy( dataset_reader.clean_sentence(sent)))\n",
    "            for sent in instances\n",
    "        ]\n",
    "        \n",
    "        style = list(style_vocab.token2id.keys())[0]\n",
    "        instances = [\n",
    "            {\n",
    "                'sentence': sent,\n",
    "                'style': style,\n",
    "            }\n",
    "            for sent in sentences\n",
    "        ]\n",
    "        \n",
    "        for inst in instances:\n",
    "            inst_encoded = dataset_train.encode_instance(inst)\n",
    "            inst.update(inst_encoded)            \n",
    "    \n",
    "    \n",
    "    instances = [\n",
    "        {\n",
    "            'sentence': inst['sentence_enc'],\n",
    "            'style': inst['style_enc'],\n",
    "        } \n",
    "        for inst in instances\n",
    "    ]\n",
    "    \n",
    "    instances = default_collate(instances)\n",
    "    instances = to_device(instances)      \n",
    "    \n",
    "    return instances"
   ]
  },
  {
   "cell_type": "code",
   "execution_count": 84,
   "metadata": {},
   "outputs": [],
   "source": [
    "def get_sentences(outputs):\n",
    "    predicted_indices = outputs[\"predictions\"]\n",
    "    end_idx = vocab[Vocab.END_TOKEN]\n",
    "    \n",
    "    if not isinstance(predicted_indices, np.ndarray):\n",
    "        predicted_indices = predicted_indices.detach().cpu().numpy()\n",
    "\n",
    "    all_predicted_tokens = []\n",
    "    for indices in predicted_indices:\n",
    "        indices = list(indices)\n",
    "\n",
    "        # Collect indices till the first end_symbol\n",
    "        if end_idx in indices:\n",
    "            indices = indices[:indices.index(end_idx)]\n",
    "\n",
    "        predicted_tokens = [vocab.id2token[x] for x in indices]\n",
    "        all_predicted_tokens.append(predicted_tokens)\n",
    "        \n",
    "    return all_predicted_tokens"
   ]
  },
  {
   "cell_type": "code",
   "execution_count": 85,
   "metadata": {},
   "outputs": [],
   "source": [
    "sentence =  ' '.join(dataset_val.instances[0]['sentence'])\n",
    "# sentence =  ' '.join(dataset_train.instances[0]['sentence'])"
   ]
  },
  {
   "cell_type": "code",
   "execution_count": 86,
   "metadata": {},
   "outputs": [
    {
     "data": {
      "text/plain": [
       "'i love these girls ( and my hair ! )'"
      ]
     },
     "execution_count": 86,
     "metadata": {},
     "output_type": "execute_result"
    }
   ],
   "source": [
    "sentence"
   ]
  },
  {
   "cell_type": "code",
   "execution_count": 87,
   "metadata": {},
   "outputs": [],
   "source": [
    "inputs = create_inputs(sentence)"
   ]
  },
  {
   "cell_type": "code",
   "execution_count": 88,
   "metadata": {},
   "outputs": [
    {
     "data": {
      "text/plain": [
       "{'sentence': tensor([[   4, 1256, 1601, 2922,   72,   23,  167, 1775,  171,   77,    2,    0,\n",
       "             0,    0,    0,    0,    0,    0,    0,    0]], device='cuda:0'),\n",
       " 'style': tensor([0], device='cuda:0')}"
      ]
     },
     "execution_count": 88,
     "metadata": {},
     "output_type": "execute_result"
    }
   ],
   "source": [
    "inputs"
   ]
  },
  {
   "cell_type": "code",
   "execution_count": 89,
   "metadata": {},
   "outputs": [],
   "source": [
    "outputs = model(inputs)"
   ]
  },
  {
   "cell_type": "code",
   "execution_count": 90,
   "metadata": {},
   "outputs": [
    {
     "data": {
      "text/plain": [
       "torch.Size([1, 20, 9418])"
      ]
     },
     "execution_count": 90,
     "metadata": {},
     "output_type": "execute_result"
    }
   ],
   "source": [
    "outputs[\"logits\"].shape"
   ]
  },
  {
   "cell_type": "code",
   "execution_count": 91,
   "metadata": {},
   "outputs": [
    {
     "name": "stdout",
     "output_type": "stream",
     "text": [
      "0\n",
      "入力 i love these girls ( and my hair ! )\n",
      "tensor(4.9778, device='cuda:0', grad_fn=<NllLossBackward0>)\n",
      "出力 i love this place .\n",
      "1\n",
      "入力 do not give this course a chance !\n",
      "tensor(4.2571, device='cuda:0', grad_fn=<NllLossBackward0>)\n",
      "出力 do not waste your time .\n",
      "2\n",
      "入力 marilyn is the best in the business , hands down .\n",
      "tensor(4.8201, device='cuda:0', grad_fn=<NllLossBackward0>)\n",
      "出力 three is a great .\n",
      "3\n",
      "入力 the food is incredible .\n",
      "tensor(1.6922, device='cuda:0', grad_fn=<NllLossBackward0>)\n",
      "出力 the food is great and the service is great .\n",
      "4\n",
      "入力 it 's sad because their menu has many options and it actually sounds appetizing .\n",
      "tensor(5.7886, device='cuda:0', grad_fn=<NllLossBackward0>)\n",
      "出力 it 's a great place to the . .\n",
      "5\n",
      "入力 the everything bagel has just enough of , well , everything .\n",
      "tensor(5.0334, device='cuda:0', grad_fn=<NllLossBackward0>)\n",
      "出力 the best part is the .\n",
      "6\n",
      "入力 again , i am not sure if the sauce was prepared in - house .\n",
      "tensor(4.5711, device='cuda:0', grad_fn=<NllLossBackward0>)\n",
      "出力 overall , i was not impressed .\n",
      "7\n",
      "入力 they are famous for their pies but i love the breakfast .\n",
      "tensor(5.0166, device='cuda:0', grad_fn=<NllLossBackward0>)\n",
      "出力 they are always and and and and .\n",
      "8\n",
      "入力 best mexican food i have ever eaten in my life .\n",
      "tensor(3.9696, device='cuda:0', grad_fn=<NllLossBackward0>)\n",
      "出力 best sushi in the !\n",
      "9\n",
      "入力 an overall extremely lackluster dining service .\n",
      "tensor(5.1167, device='cuda:0', grad_fn=<NllLossBackward0>)\n",
      "出力 an amazing place to the . .\n",
      "10\n",
      "入力 same great food and service are still there .\n",
      "tensor(3.9722, device='cuda:0', grad_fn=<NllLossBackward0>)\n",
      "出力 same thing , the .\n",
      "11\n",
      "入力 i recently moved to charlotte and have been looking for a good aveda salon .\n",
      "tensor(5.6893, device='cuda:0', grad_fn=<NllLossBackward0>)\n",
      "出力 i recently had a the worst experience i have ever had .\n",
      "12\n",
      "入力 the place was very clean and service was great & courteous staff .\n",
      "tensor(2.9373, device='cuda:0', grad_fn=<NllLossBackward0>)\n",
      "出力 the place is clean and the staff is very .\n",
      "13\n",
      "入力 in july of number i had a new two speed pump put on .\n",
      "tensor(6.2697, device='cuda:0', grad_fn=<NllLossBackward0>)\n",
      "出力 in the , i am a big fan of the .\n",
      "14\n",
      "入力 loved the menus on the wall - order the specials if you are there .\n",
      "tensor(5.4365, device='cuda:0', grad_fn=<NllLossBackward0>)\n",
      "出力 loved the food and\n",
      "15\n",
      "入力 cheeseburger pizza is our favorite , it 's really really good .\n",
      "tensor(5.6167, device='cuda:0', grad_fn=<NllLossBackward0>)\n",
      "出力 ashley was the and and .\n",
      "16\n",
      "入力 phil is awesome .\n",
      "tensor(3.9455, device='cuda:0', grad_fn=<NllLossBackward0>)\n",
      "出力 caesar is the best .\n",
      "17\n",
      "入力 so instead i had some yellow curry with potatoes and chicken .\n",
      "tensor(5.8113, device='cuda:0', grad_fn=<NllLossBackward0>)\n",
      "出力 so i i a great experience .\n",
      "18\n",
      "入力 disappointed that the bean dip and the queso had chorizo .\n",
      "tensor(5.8614, device='cuda:0', grad_fn=<NllLossBackward0>)\n",
      "出力 disappointed , i , i\n",
      "19\n",
      "入力 these are the best donuts you can get in town .\n",
      "tensor(4.5375, device='cuda:0', grad_fn=<NllLossBackward0>)\n",
      "出力 these guys are great !\n"
     ]
    }
   ],
   "source": [
    "loss = 0\n",
    "for i in range(20):\n",
    "    sentence =  ' '.join(dataset_val.instances[i]['sentence'])\n",
    "    inputs = create_inputs(sentence)\n",
    "    outputs = model(inputs)\n",
    "    loss += outputs[\"loss\"]\n",
    "    if outputs[\"loss\"]<20:\n",
    "        print(i)\n",
    "        print(\"入力\",sentence)\n",
    "        print(outputs[\"loss\"])\n",
    "        print(\"出力\",\" \".join(get_sentences(outputs)[0]))"
   ]
  },
  {
   "cell_type": "code",
   "execution_count": 92,
   "metadata": {},
   "outputs": [
    {
     "data": {
      "text/plain": [
       "tensor(4.7660, device='cuda:0', grad_fn=<DivBackward0>)"
      ]
     },
     "execution_count": 92,
     "metadata": {},
     "output_type": "execute_result"
    }
   ],
   "source": [
    "loss/20"
   ]
  },
  {
   "cell_type": "code",
   "execution_count": 93,
   "metadata": {},
   "outputs": [],
   "source": [
    "sentences = get_sentences(outputs)"
   ]
  },
  {
   "cell_type": "code",
   "execution_count": 52,
   "metadata": {},
   "outputs": [
    {
     "data": {
      "text/plain": [
       "'「 、 、 の の の の の の の の の の の の の'"
      ]
     },
     "execution_count": 52,
     "metadata": {},
     "output_type": "execute_result"
    }
   ],
   "source": [
    "' '.join(sentences[0])"
   ]
  },
  {
   "cell_type": "markdown",
   "metadata": {},
   "source": [
    "### Swap style"
   ]
  },
  {
   "cell_type": "code",
   "execution_count": 94,
   "metadata": {},
   "outputs": [],
   "source": [
    "possible_styles = list(style_vocab.token2id.keys()) #['negative', 'positive']"
   ]
  },
  {
   "cell_type": "code",
   "execution_count": 95,
   "metadata": {},
   "outputs": [
    {
     "data": {
      "text/plain": [
       "['negative', 'positive']"
      ]
     },
     "execution_count": 95,
     "metadata": {},
     "output_type": "execute_result"
    }
   ],
   "source": [
    "possible_styles"
   ]
  },
  {
   "cell_type": "code",
   "execution_count": 96,
   "metadata": {},
   "outputs": [],
   "source": [
    "sentences0 = [s for s in dataset_val.instances if s['style'] == possible_styles[0]]\n",
    "sentences1 = [s for s in dataset_val.instances if s['style'] == possible_styles[1]]"
   ]
  },
  {
   "cell_type": "code",
   "execution_count": 97,
   "metadata": {},
   "outputs": [
    {
     "name": "stdout",
     "output_type": "stream",
     "text": [
      "1820 after asking to pay i was yelled at very loud by the owner .\n",
      "1386 then he had the nerve to ask me if we still wanted it .\n",
      "537 it took number minutes for one of the worst meals ever .\n",
      "145 number more minutes to get plates .\n",
      "185 lon 's is no longer the dining gem as it was in the past .\n"
     ]
    }
   ],
   "source": [
    "for i in np.random.choice(np.arange(len(sentences0)), 5):\n",
    "    print(i, ' '.join(sentences0[i]['sentence']))"
   ]
  },
  {
   "cell_type": "code",
   "execution_count": 98,
   "metadata": {},
   "outputs": [
    {
     "name": "stdout",
     "output_type": "stream",
     "text": [
      "559 phoenix body works is awesome and i highly recommend , we will be back !\n",
      "44 the food selection was great .\n",
      "2081 great service , amazing food .\n",
      "2671 its trashy and has all walks of life ... .\n",
      "1467 the noodles were great though .\n"
     ]
    }
   ],
   "source": [
    "for i in np.random.choice(np.arange(len(sentences1)), 5):\n",
    "    print(i, ' '.join(sentences1[i]['sentence']))"
   ]
  },
  {
   "cell_type": "markdown",
   "metadata": {},
   "source": [
    "#### Swap"
   ]
  },
  {
   "cell_type": "code",
   "execution_count": 99,
   "metadata": {},
   "outputs": [],
   "source": [
    "target0 = np.random.choice(np.arange(len(sentences0)))\n",
    "target1 = np.random.choice(np.arange(len(sentences1)))"
   ]
  },
  {
   "cell_type": "code",
   "execution_count": 100,
   "metadata": {},
   "outputs": [
    {
     "name": "stdout",
     "output_type": "stream",
     "text": [
      "it tasted bad .\n"
     ]
    }
   ],
   "source": [
    "print(' '.join(sentences0[target0]['sentence']))"
   ]
  },
  {
   "cell_type": "code",
   "execution_count": 101,
   "metadata": {},
   "outputs": [
    {
     "name": "stdout",
     "output_type": "stream",
     "text": [
      "the selection is fantastic and all the food is high quality .\n"
     ]
    }
   ],
   "source": [
    "print(' '.join(sentences1[target1]['sentence']))"
   ]
  },
  {
   "cell_type": "code",
   "execution_count": 102,
   "metadata": {},
   "outputs": [],
   "source": [
    "inputs = create_inputs([\n",
    "    sentences0[target0],\n",
    "    sentences1[target1],\n",
    "])"
   ]
  },
  {
   "cell_type": "code",
   "execution_count": 103,
   "metadata": {},
   "outputs": [],
   "source": [
    "z_hidden = model(inputs)"
   ]
  },
  {
   "cell_type": "code",
   "execution_count": 104,
   "metadata": {},
   "outputs": [
    {
     "data": {
      "text/plain": [
       "torch.Size([2, 128])"
      ]
     },
     "execution_count": 104,
     "metadata": {},
     "output_type": "execute_result"
    }
   ],
   "source": [
    "z_hidden['style_hidden'].shape"
   ]
  },
  {
   "cell_type": "code",
   "execution_count": 105,
   "metadata": {},
   "outputs": [
    {
     "data": {
      "text/plain": [
       "{'decoder_hidden': tensor([[-10.0000, -10.0000, -10.0000, -10.0000, -10.0000,  10.0000, -10.0000,\n",
       "           10.0000,  10.0000,  10.0000,  10.0000,  10.0000, -10.0000,  10.0000,\n",
       "          -10.0000, -10.0000, -10.0000, -10.0000, -10.0000, -10.0000, -10.0000,\n",
       "          -10.0000, -10.0000, -10.0000,  10.0000, -10.0000,  10.0000,  10.0000,\n",
       "          -10.0000,  10.0000,  10.0000, -10.0000, -10.0000, -10.0000, -10.0000,\n",
       "           -2.3903, -10.0000, -10.0000, -10.0000, -10.0000, -10.0000, -10.0000,\n",
       "           10.0000,  10.0000,  10.0000,  10.0000, -10.0000, -10.0000,  10.0000,\n",
       "           10.0000, -10.0000,  10.0000, -10.0000, -10.0000, -10.0000, -10.0000,\n",
       "          -10.0000,  10.0000,  10.0000, -10.0000, -10.0000, -10.0000,  10.0000,\n",
       "           10.0000,  10.0000, -10.0000,  10.0000,  10.0000, -10.0000,  10.0000,\n",
       "          -10.0000,  10.0000,  10.0000,  10.0000, -10.0000,  10.0000, -10.0000,\n",
       "           10.0000, -10.0000, -10.0000, -10.0000,  10.0000,  10.0000,  -9.2134,\n",
       "          -10.0000,  10.0000, -10.0000,  10.0000, -10.0000,  10.0000,  10.0000,\n",
       "           10.0000, -10.0000,  10.0000, -10.0000,  10.0000, -10.0000,  10.0000,\n",
       "          -10.0000, -10.0000,  10.0000, -10.0000,  10.0000,  10.0000,  10.0000,\n",
       "           10.0000,  10.0000, -10.0000,  10.0000,  10.0000, -10.0000,  10.0000,\n",
       "           10.0000, -10.0000, -10.0000,  10.0000, -10.0000, -10.0000,  10.0000,\n",
       "          -10.0000,  10.0000, -10.0000, -10.0000, -10.0000, -10.0000, -10.0000,\n",
       "           10.0000,  10.0000,  10.0000, -10.0000,   1.1156,  10.0000,  10.0000,\n",
       "           10.0000,  10.0000, -10.0000,  10.0000,  10.0000,  10.0000,  10.0000,\n",
       "           10.0000,  10.0000,  10.0000, -10.0000, -10.0000, -10.0000,  10.0000,\n",
       "           10.0000,  10.0000,  10.0000,  10.0000, -10.0000, -10.0000,  -6.5690,\n",
       "          -10.0000,  10.0000, -10.0000,  10.0000,  10.0000,  10.0000, -10.0000,\n",
       "          -10.0000,  10.0000,  10.0000, -10.0000,  10.0000, -10.0000,  10.0000,\n",
       "           10.0000, -10.0000,  10.0000,  10.0000,  10.0000, -10.0000, -10.0000,\n",
       "          -10.0000,  10.0000,  -5.5107,  10.0000, -10.0000, -10.0000,  10.0000,\n",
       "          -10.0000, -10.0000, -10.0000, -10.0000,  10.0000, -10.0000, -10.0000,\n",
       "          -10.0000,  10.0000,  10.0000,  10.0000,  10.0000,  -1.0394, -10.0000,\n",
       "           10.0000, -10.0000, -10.0000,  10.0000,  10.0000,  10.0000,  10.0000,\n",
       "          -10.0000,  10.0000,  10.0000, -10.0000, -10.0000,  10.0000,  10.0000,\n",
       "           10.0000, -10.0000, -10.0000, -10.0000, -10.0000, -10.0000,  10.0000,\n",
       "           10.0000,  10.0000,  10.0000,  10.0000, -10.0000,  10.0000, -10.0000,\n",
       "          -10.0000, -10.0000, -10.0000, -10.0000, -10.0000,  10.0000,  10.0000,\n",
       "           10.0000,  10.0000,  10.0000, -10.0000, -10.0000, -10.0000,  10.0000,\n",
       "          -10.0000,  10.0000,  10.0000, -10.0000,  10.0000,  10.0000,  10.0000,\n",
       "          -10.0000,  10.0000,  10.0000, -10.0000,  10.0000,  10.0000, -10.0000,\n",
       "           10.0000, -10.0000,  10.0000,  10.0000],\n",
       "         [ 10.0000,  -6.1725,  10.0000,  10.0000, -10.0000,  10.0000, -10.0000,\n",
       "          -10.0000, -10.0000, -10.0000, -10.0000,   0.1845,  10.0000,  10.0000,\n",
       "           10.0000, -10.0000,  10.0000,  10.0000, -10.0000,  10.0000,  10.0000,\n",
       "           10.0000, -10.0000, -10.0000,  10.0000,  10.0000, -10.0000,  10.0000,\n",
       "           10.0000, -10.0000, -10.0000,  10.0000,  10.0000,  10.0000, -10.0000,\n",
       "           10.0000,  10.0000,  10.0000,  10.0000, -10.0000, -10.0000, -10.0000,\n",
       "           10.0000, -10.0000,  10.0000, -10.0000, -10.0000,  10.0000,  10.0000,\n",
       "          -10.0000, -10.0000,  10.0000,   0.6513, -10.0000,  10.0000, -10.0000,\n",
       "           10.0000, -10.0000, -10.0000, -10.0000,  10.0000, -10.0000, -10.0000,\n",
       "          -10.0000, -10.0000, -10.0000, -10.0000, -10.0000,  10.0000,  10.0000,\n",
       "           10.0000, -10.0000, -10.0000,  10.0000, -10.0000, -10.0000,  10.0000,\n",
       "           -3.3608,  10.0000,  -5.7619,  10.0000, -10.0000, -10.0000,  10.0000,\n",
       "          -10.0000, -10.0000,  10.0000,  10.0000, -10.0000, -10.0000,  10.0000,\n",
       "          -10.0000,  10.0000, -10.0000,  10.0000, -10.0000,  10.0000, -10.0000,\n",
       "          -10.0000,  10.0000, -10.0000, -10.0000, -10.0000, -10.0000, -10.0000,\n",
       "           10.0000, -10.0000, -10.0000, -10.0000,  10.0000,  10.0000, -10.0000,\n",
       "          -10.0000,  -9.1728, -10.0000, -10.0000,   2.0435, -10.0000, -10.0000,\n",
       "           10.0000,  10.0000, -10.0000, -10.0000, -10.0000,  10.0000,  10.0000,\n",
       "          -10.0000,  10.0000,  10.0000, -10.0000, -10.0000, -10.0000,  10.0000,\n",
       "           10.0000,  -4.9999,  10.0000, -10.0000, -10.0000,   9.2086, -10.0000,\n",
       "          -10.0000,   1.8102, -10.0000,  10.0000,   8.4540, -10.0000, -10.0000,\n",
       "          -10.0000, -10.0000,  10.0000,  10.0000,  10.0000, -10.0000, -10.0000,\n",
       "          -10.0000, -10.0000,  10.0000,  10.0000, -10.0000, -10.0000,  10.0000,\n",
       "           -4.0183, -10.0000,   8.1771, -10.0000, -10.0000, -10.0000, -10.0000,\n",
       "           10.0000,  10.0000,  10.0000, -10.0000, -10.0000,  10.0000, -10.0000,\n",
       "           10.0000, -10.0000, -10.0000,  10.0000,  10.0000, -10.0000, -10.0000,\n",
       "          -10.0000,  10.0000, -10.0000,  10.0000, -10.0000, -10.0000,  10.0000,\n",
       "           10.0000, -10.0000, -10.0000,  10.0000, -10.0000,  10.0000, -10.0000,\n",
       "          -10.0000, -10.0000,  10.0000,  -3.8213,  10.0000,  10.0000,  10.0000,\n",
       "          -10.0000,  10.0000,  10.0000, -10.0000, -10.0000,  10.0000, -10.0000,\n",
       "           -8.2210,  10.0000,  10.0000, -10.0000, -10.0000, -10.0000,  10.0000,\n",
       "           10.0000, -10.0000, -10.0000, -10.0000,  10.0000,  10.0000, -10.0000,\n",
       "          -10.0000, -10.0000, -10.0000,  10.0000, -10.0000, -10.0000,  10.0000,\n",
       "           10.0000, -10.0000, -10.0000, -10.0000,  10.0000,  10.0000,  10.0000,\n",
       "           10.0000,  10.0000,  10.0000, -10.0000,  10.0000, -10.0000, -10.0000,\n",
       "          -10.0000, -10.0000, -10.0000, -10.0000, -10.0000,  -7.0200,  10.0000,\n",
       "          -10.0000, -10.0000, -10.0000, -10.0000]], device='cuda:0',\n",
       "        grad_fn=<HardtanhBackward0>),\n",
       " 'meaning_hidden': tensor([[  5.4287,   1.5342,  -2.7959,   2.9380,   6.7167,   7.1180,   5.8178,\n",
       "           -1.7777,  -6.0858,   6.5457,  -8.7309,  -9.1877,   4.6591,  -5.3886,\n",
       "           -0.2421,  -4.2603,  -3.6804,   1.1839,   1.9464,  -3.0306,   1.3918,\n",
       "           -1.5541,   2.4332,  -7.2373,   0.6585,   4.6444,  -3.4211,   5.4905,\n",
       "           -1.5991,   7.5427,   8.6663,  -2.2126,  -0.3439,  -6.3231,  -1.4345,\n",
       "            0.1945, -10.0000,   3.0135,  -1.6035,  -0.3194,   5.7418,   4.8042,\n",
       "           -8.7600,  -2.9948,   5.8043,   2.8358, -10.0000,  -3.3557,  -1.2874,\n",
       "            0.2808,  -1.3559,   2.1990,   8.8017,   4.3627,  -8.7264,  -3.3716,\n",
       "            1.0160,   9.0507,  -1.5871,   0.9352,  -6.0432,   4.8274,   0.0422,\n",
       "            1.7393,  -3.3768,  -8.0337,  -5.8778,  -0.7691,   8.6777,  -0.1362,\n",
       "           -4.8909,  -3.0177,   0.5032,   1.6459,  -6.0508,  -4.4295,   7.2444,\n",
       "           -5.7571,   9.0459,  -7.0779,   0.6382,   1.9118,   1.9340,  -2.9473,\n",
       "            1.0772,   0.2122,   5.8263,   3.5214,   6.0958,   0.1792,   9.1364,\n",
       "           -3.3592,   9.4971,  -0.9483,  -4.3773,   0.1536,  -6.8620,   3.4942,\n",
       "           -3.3988,  -0.2193,  -2.4592,   7.9583,  -4.0548,   2.7656,   0.0452,\n",
       "            6.3841,  -0.5017,  -2.3246,  10.0000,   7.8970,   4.9903,  -1.3788,\n",
       "            7.3876,  -4.7746,  -3.6259,  -9.3651,  10.0000,  -3.6789,  -3.3304,\n",
       "            3.8216,   0.0590,  -7.8737,   7.8180,  10.0000,   2.3273,   1.1726,\n",
       "           -4.1906,  -5.1840],\n",
       "         [ -0.1299,  -6.7592,   0.8427,  -1.4423,  -5.8700,  -5.4117,   4.7524,\n",
       "            1.1017,   2.7265,   0.1929,   6.9798,  -2.5028,  -0.4914,  -2.8344,\n",
       "           -5.1507,   2.9424,   2.8968,  -1.1633,  -1.7661,   1.0948,  -0.7531,\n",
       "            0.5128,  -6.1407,   1.2391,   2.3597,   3.7943,   1.8963,   1.8479,\n",
       "            8.4102,  -1.7188,   5.6748,   6.7164,   0.2129,   2.3077,  -7.8021,\n",
       "           -2.7811,   0.1494,  -9.7540,   5.5099,   0.9111,   1.9226,   2.8948,\n",
       "            4.3137,  -7.0248,   0.8770,  -3.3108,   4.2021,   4.5635,   6.2316,\n",
       "            0.5120,   0.6918,  -5.7373,   1.6361,  -3.3175,  -0.6723,   4.0383,\n",
       "            0.1598,   0.3832,  -2.1846,   1.7809,   5.3244,  -1.2586,  -0.8876,\n",
       "           -0.2413,   2.3163,  -0.7308,  10.0000,   2.0645,   0.9324,  -0.7523,\n",
       "            6.8927,  -1.1012,  -4.7499,   2.8770,   4.8900,  -0.9377,  -5.7098,\n",
       "            4.4190,  -4.3952,   4.5500,  -0.5603,   4.4045,   4.3108,  -1.1629,\n",
       "           -4.0698,  -6.0550,   2.1734,   0.5787,   2.8744,  -0.7475,  -2.9160,\n",
       "            8.3314,  -0.5078,   3.7601,  -1.8771,   2.6288,   3.8455,  -1.3054,\n",
       "            0.5232,  -5.2945,   2.6495,  -3.0082, -10.0000,   0.7117,   7.8496,\n",
       "           -1.2676,  -1.2206,   3.4253,  -5.0060,   2.5728,  -4.8679,  -4.6301,\n",
       "           -7.4210,   6.0782,   0.2411,   7.3549,  -0.4906,  -3.6828,   7.2126,\n",
       "            2.4810,  -7.2978,   3.8366,   0.0297,  -6.4005,  -2.9223,  -5.5371,\n",
       "           -1.0955,   3.1703]], device='cuda:0', grad_fn=<HardtanhBackward0>),\n",
       " 'style_hidden': tensor([[-2.7042e+00, -9.6175e-01, -1.6508e+00, -2.2038e+00, -2.9717e+00,\n",
       "          -2.1032e+00, -4.3787e+00,  6.6072e+00,  1.7291e+00, -5.1557e+00,\n",
       "          -7.4366e+00,  2.4926e+00, -2.1969e+00, -6.9986e-01, -1.5269e+00,\n",
       "          -8.5749e-01,  4.4995e+00, -1.0000e+01,  1.1556e+00, -4.2228e+00,\n",
       "           6.8425e+00,  6.6123e+00,  2.8325e+00, -3.4944e+00, -2.7558e+00,\n",
       "          -7.9181e-01,  5.6613e+00,  3.4505e+00, -5.7592e+00,  1.6593e+00,\n",
       "           1.6180e+00, -3.2960e-01,  4.7120e+00, -6.8522e+00, -1.3926e+00,\n",
       "           4.5548e-01,  2.9028e+00,  4.6081e+00, -4.8861e+00, -6.4890e-02,\n",
       "          -6.9814e-02,  1.4169e+00,  4.2210e+00,  1.5238e+00,  7.0102e+00,\n",
       "           9.5079e+00,  1.0000e+01,  2.7022e+00,  4.2030e+00,  3.1306e+00,\n",
       "           5.8919e+00,  3.8298e+00,  1.9556e+00, -7.1203e+00,  5.0889e-01,\n",
       "          -3.0395e+00,  4.3108e+00,  6.2342e+00, -2.3903e+00,  5.0653e+00,\n",
       "           6.6687e+00,  3.7981e+00,  5.5330e+00, -6.7747e-01, -2.6996e-01,\n",
       "          -1.0343e+00,  4.6506e+00, -2.3438e+00, -4.0472e-03,  1.3648e+00,\n",
       "           4.2931e+00,  7.1881e+00, -4.5841e-01, -2.0603e+00, -1.0000e+01,\n",
       "          -1.0399e+00, -2.7006e+00,  2.9020e+00,  8.0353e+00,  5.4158e+00,\n",
       "          -8.2624e-01,  2.1358e+00, -6.7965e+00, -2.4785e+00,  1.0589e+00,\n",
       "           1.2938e+00,  1.0000e+01, -6.3400e-01,  4.4101e+00, -1.3906e+00,\n",
       "           6.4458e+00, -4.0647e+00, -1.0000e+01, -2.8843e+00, -4.4206e+00,\n",
       "          -7.2688e+00,  1.0000e+01,  1.9218e+00, -3.9582e-01, -4.2091e+00,\n",
       "          -2.0782e+00, -4.5233e+00,  5.4088e+00,  9.5040e+00,  3.0278e+00,\n",
       "          -5.1988e+00, -3.8549e+00, -4.4541e+00,  1.0694e+00, -3.9359e+00,\n",
       "          -1.0000e+01, -1.4897e+00, -1.0556e+00, -8.2979e+00, -8.0160e+00,\n",
       "          -2.5172e+00,  6.6738e+00,  1.8881e+00,  1.8888e-01,  4.0515e+00,\n",
       "           3.8266e+00,  3.8197e-01,  2.4647e+00,  5.3016e+00,  1.3983e+00,\n",
       "          -7.2689e+00, -1.3284e+00, -7.2499e+00],\n",
       "         [-4.4045e+00,  9.4763e+00, -6.9949e-01,  7.0309e+00, -5.9294e+00,\n",
       "           4.3299e+00,  4.5062e+00, -4.4966e+00,  8.5314e-01,  9.9821e+00,\n",
       "           4.5531e+00,  1.6666e+00,  8.1971e+00,  1.3499e+00, -5.2907e+00,\n",
       "          -1.2548e+00, -1.0000e+01,  3.3461e+00, -3.1123e+00, -3.0122e+00,\n",
       "          -3.4943e-01,  3.8264e+00,  2.5191e+00,  1.8771e+00,  1.0183e+00,\n",
       "           1.0000e+01, -3.0403e-01,  5.2988e+00,  3.3831e-01,  1.7522e+00,\n",
       "          -1.8722e+00,  1.5406e+00, -4.9198e+00,  3.8333e-01,  1.4616e+00,\n",
       "           3.8507e+00, -4.6732e+00, -5.4244e+00, -3.2669e+00,  1.6712e-01,\n",
       "           3.9175e+00,  4.7490e+00,  6.7546e+00, -1.0000e+01, -1.7824e+00,\n",
       "           1.6640e+00,  1.7603e+00,  1.3859e+00,  1.3745e+00, -2.3147e+00,\n",
       "          -2.5911e-01, -6.9484e+00, -1.4636e+00,  1.0029e+00,  6.8733e+00,\n",
       "          -5.8702e-01, -1.3683e+00,  2.4609e+00,  1.0000e+01,  2.4529e+00,\n",
       "           8.1951e+00, -1.7980e+00, -7.3228e-02, -6.0735e+00, -1.7382e+00,\n",
       "           7.0303e+00, -2.0398e-01, -1.9463e+00, -1.7479e+00, -1.0269e+00,\n",
       "          -5.0208e+00,  6.3071e-01,  1.1819e+00,  4.0494e+00, -3.5769e+00,\n",
       "          -6.0163e+00, -4.1041e+00,  1.4869e+00, -3.0321e+00,  2.8519e+00,\n",
       "           1.4032e+00,  8.1243e+00, -1.1565e+00, -3.5351e+00, -1.2958e-01,\n",
       "          -8.1091e+00, -1.1026e+00,  8.6218e+00, -1.8006e-01,  3.3704e+00,\n",
       "          -3.7468e+00, -1.8034e+00,  3.6040e+00, -2.7625e+00,  5.1068e+00,\n",
       "          -2.7740e+00,  3.9611e-01,  6.4014e-01,  1.4700e+00,  3.8754e+00,\n",
       "           2.2189e+00, -2.2469e+00,  1.2284e+00,  3.3478e+00,  2.6730e+00,\n",
       "           3.0485e+00, -3.1757e+00, -8.4648e+00,  9.2783e-01,  3.1277e+00,\n",
       "          -4.3829e+00,  3.1896e+00,  6.3121e+00, -7.3486e+00, -3.6063e-02,\n",
       "          -1.9828e+00, -4.1408e+00, -5.8371e+00, -4.2169e+00,  5.3472e+00,\n",
       "          -5.6767e-01, -5.6233e+00,  6.8179e-02, -1.7564e+00,  1.4038e+00,\n",
       "           4.4301e+00,  3.4940e+00, -3.2730e-01]], device='cuda:0',\n",
       "        grad_fn=<HardtanhBackward0>),\n",
       " 'logits': tensor([[[-14.3739, -14.3810, -11.8560,  ..., -14.7422, -13.4871, -16.7287],\n",
       "          [-14.3177, -14.3134, -14.7919,  ..., -15.5847, -13.9318, -14.2776],\n",
       "          [-13.4498, -13.4467, -19.1393,  ..., -14.3621, -14.1845, -13.4769],\n",
       "          ...,\n",
       "          [-17.2544, -17.2499,  -0.5316,  ..., -17.6965, -16.7562, -18.5694],\n",
       "          [-17.5929, -17.5868,  -1.3613,  ..., -18.2236, -17.4519, -19.4569],\n",
       "          [-17.5761, -17.5686,  -1.2525,  ..., -18.1934, -17.4150, -19.5827]],\n",
       " \n",
       "         [[-17.2313, -17.2388, -21.6202,  ..., -17.9349, -17.3544, -18.2997],\n",
       "          [-18.5110, -18.5065, -19.0134,  ..., -20.8237, -19.6903, -21.5619],\n",
       "          [-13.4571, -13.4588, -14.1298,  ..., -12.7382, -12.9945, -14.4095],\n",
       "          ...,\n",
       "          [-18.2045, -18.2020,  -2.2652,  ..., -19.0893, -18.2517, -19.7332],\n",
       "          [-17.9695, -17.9673,  -0.9863,  ..., -18.6073, -17.7108, -19.2038],\n",
       "          [-17.5376, -17.5349,  -0.6566,  ..., -18.1261, -17.0664, -18.8291]]],\n",
       "        device='cuda:0', grad_fn=<CatBackward0>),\n",
       " 'predictions': tensor([[  41,   29,   16,   24,  173,   83,   11,   12,    8,    8,    2,    8,\n",
       "             2,    8,    2,    2,    2,    2],\n",
       "         [  12, 1398,   16,  173,   23,   12,  643,   16,  345, 1237,    8,    2,\n",
       "             8,    2,    2,    2,    2,    2]], device='cuda:0'),\n",
       " 'loss': tensor(3.8740, device='cuda:0', grad_fn=<NllLossBackward0>)}"
      ]
     },
     "execution_count": 105,
     "metadata": {},
     "output_type": "execute_result"
    }
   ],
   "source": [
    "z_hidden"
   ]
  },
  {
   "cell_type": "code",
   "execution_count": 106,
   "metadata": {},
   "outputs": [
    {
     "data": {
      "text/plain": [
       "torch.Size([2, 128])"
      ]
     },
     "execution_count": 106,
     "metadata": {},
     "output_type": "execute_result"
    }
   ],
   "source": [
    "z_hidden['meaning_hidden'].shape"
   ]
  },
  {
   "cell_type": "code",
   "execution_count": 107,
   "metadata": {},
   "outputs": [],
   "source": [
    "original_decoded = model.decode(z_hidden)"
   ]
  },
  {
   "cell_type": "code",
   "execution_count": 108,
   "metadata": {},
   "outputs": [],
   "source": [
    "original_sentences = get_sentences(original_decoded)"
   ]
  },
  {
   "cell_type": "code",
   "execution_count": 109,
   "metadata": {},
   "outputs": [
    {
     "name": "stdout",
     "output_type": "stream",
     "text": [
      "it really is a great place to the . .\n",
      "the selection is great and the staff is always friendly .\n"
     ]
    }
   ],
   "source": [
    "print(' '.join(original_sentences[0]))\n",
    "print(' '.join(original_sentences[1]))"
   ]
  },
  {
   "cell_type": "code",
   "execution_count": 110,
   "metadata": {},
   "outputs": [],
   "source": [
    "z_hidden_swapped = {\n",
    "    'meaning_hidden': torch.stack([\n",
    "        z_hidden['meaning_hidden'][0].clone(),\n",
    "        z_hidden['meaning_hidden'][1].clone(),        \n",
    "    ], dim=0),\n",
    "    'style_hidden': torch.stack([\n",
    "        z_hidden['style_hidden'][1].clone(),\n",
    "        z_hidden['style_hidden'][0].clone(),        \n",
    "    ], dim=0),\n",
    "}"
   ]
  },
  {
   "cell_type": "code",
   "execution_count": 111,
   "metadata": {},
   "outputs": [],
   "source": [
    "swaped_decoded = model.decode(z_hidden_swapped)"
   ]
  },
  {
   "cell_type": "code",
   "execution_count": 112,
   "metadata": {},
   "outputs": [],
   "source": [
    "swaped_sentences = get_sentences(swaped_decoded)"
   ]
  },
  {
   "cell_type": "code",
   "execution_count": 113,
   "metadata": {
    "scrolled": true
   },
   "outputs": [
    {
     "name": "stdout",
     "output_type": "stream",
     "text": [
      "it really is a great place to the . .\n",
      "the selection is great and the staff is always friendly .\n",
      "\n",
      "just a great place .\n",
      "good food , great service .\n"
     ]
    }
   ],
   "source": [
    "print(' '.join(original_sentences[0]))\n",
    "print(' '.join(original_sentences[1]))\n",
    "print()\n",
    "print(' '.join(swaped_sentences[0]))\n",
    "print(' '.join(swaped_sentences[1]))"
   ]
  },
  {
   "cell_type": "markdown",
   "metadata": {},
   "source": [
    "# Visualization"
   ]
  },
  {
   "cell_type": "code",
   "execution_count": 114,
   "metadata": {},
   "outputs": [],
   "source": [
    "import matplotlib.pyplot as plt"
   ]
  },
  {
   "cell_type": "code",
   "execution_count": 115,
   "metadata": {},
   "outputs": [
    {
     "name": "stdout",
     "output_type": "stream",
     "text": [
      "styleとsentenceのリストを表示します\n",
      "          0                                                  1\n",
      "0  positive               i love these girls ( and my hair ! )\n",
      "1  negative                 do not give this course a chance !\n",
      "2  positive  marilyn is the best in the business , hands do...\n",
      "3  positive                           the food is incredible .\n",
      "4  negative  it 's sad because their menu has many options ...\n",
      "5  positive  the everything bagel has just enough of , well...\n",
      "6  negative  again , i am not sure if the sauce was prepare...\n",
      "7  positive  they are famous for their pies but i love the ...\n",
      "8  positive   best mexican food i have ever eaten in my life .\n",
      "9  negative   an overall extremely lackluster dining service .\n"
     ]
    },
    {
     "name": "stderr",
     "output_type": "stream",
     "text": [
      "/home/yuta_m/.pyenv/versions/3.6.10/envs/keigo_adversarial/lib/python3.6/site-packages/spacy/pipeline/lemmatizer.py:211: UserWarning: [W108] The rule-based lemmatizer did not find POS annotation for one or more tokens. Check that your pipeline includes components that assign token.pos, typically 'tagger'+'attribute_ruler' or 'morphologizer'.\n",
      "  warnings.warn(Warnings.W108)\n"
     ]
    },
    {
     "name": "stdout",
     "output_type": "stream",
     "text": [
      "[{'sentence': tensor([[   4, 1256, 1601, 2922,   72,   23,  167, 1775,  171,   77,    2,    0,\n",
      "            0,    0,    0,    0,    0,    0,    0,    0]], device='cuda:0'), 'style': tensor([0], device='cuda:0')}, {'sentence': tensor([[ 140,   32,  298,   69, 1747,   24, 1558,  171,    2,    0,    0,    0,\n",
      "            0,    0,    0,    0,    0,    0,    0,    0]], device='cuda:0'), 'style': tensor([0], device='cuda:0')}, {'sentence': tensor([[8301,   16,   12, 1068,   68,   12,   82,   14,  950,  261,    8,    2,\n",
      "            0,    0,    0,    0,    0,    0,    0,    0]], device='cuda:0'), 'style': tensor([0], device='cuda:0')}, {'sentence': tensor([[ 12, 384,  16, 560,   8,   2,   0,   0,   0,   0,   0,   0,   0,   0,\n",
      "           0,   0,   0,   0,   0,   0]], device='cuda:0'), 'style': tensor([0], device='cuda:0')}, {'sentence': tensor([[  41,  303, 1298,  668,  196,  272,   84,  224,  226,   23,   41,  229,\n",
      "         2060, 1448,    8,    2,    0,    0,    0,    0]], device='cuda:0'), 'style': tensor([0], device='cuda:0')}]\n",
      "{'decoder_hidden': tensor([[-10.0000, -10.0000, -10.0000, -10.0000,  10.0000, -10.0000,  10.0000,\n",
      "          10.0000,  10.0000,  10.0000,  10.0000, -10.0000, -10.0000,  10.0000,\n",
      "         -10.0000, -10.0000, -10.0000, -10.0000,  10.0000, -10.0000, -10.0000,\n",
      "         -10.0000, -10.0000,  10.0000,  10.0000, -10.0000,  10.0000, -10.0000,\n",
      "         -10.0000,  10.0000, -10.0000,  10.0000, -10.0000,  10.0000, -10.0000,\n",
      "          10.0000, -10.0000,  10.0000,  10.0000, -10.0000,  10.0000, -10.0000,\n",
      "         -10.0000,  10.0000, -10.0000,  10.0000,  10.0000, -10.0000,  10.0000,\n",
      "         -10.0000, -10.0000,  10.0000,  10.0000,  10.0000, -10.0000, -10.0000,\n",
      "         -10.0000,  10.0000, -10.0000,  10.0000, -10.0000, -10.0000,  10.0000,\n",
      "          10.0000,  10.0000, -10.0000,  10.0000,   3.4167, -10.0000,  10.0000,\n",
      "         -10.0000,   7.9249,  10.0000,  10.0000, -10.0000,  10.0000, -10.0000,\n",
      "          10.0000, -10.0000,  10.0000, -10.0000,  10.0000,  10.0000,  10.0000,\n",
      "          10.0000,  10.0000, -10.0000, -10.0000,  10.0000,  10.0000,  10.0000,\n",
      "          10.0000,  10.0000,  10.0000,  10.0000,  10.0000, -10.0000,  10.0000,\n",
      "          10.0000, -10.0000,  10.0000, -10.0000, -10.0000,  10.0000,  10.0000,\n",
      "          10.0000, -10.0000, -10.0000,  10.0000, -10.0000, -10.0000,  10.0000,\n",
      "          10.0000, -10.0000, -10.0000,  10.0000,  10.0000,  10.0000,  10.0000,\n",
      "          10.0000, -10.0000, -10.0000,  10.0000, -10.0000, -10.0000, -10.0000,\n",
      "         -10.0000,  10.0000,  10.0000, -10.0000, -10.0000,  10.0000, -10.0000,\n",
      "          10.0000,  10.0000, -10.0000, -10.0000,  10.0000,  10.0000,  10.0000,\n",
      "          10.0000,  10.0000,  10.0000, -10.0000, -10.0000,  10.0000,  10.0000,\n",
      "          10.0000,  10.0000, -10.0000,  10.0000, -10.0000,  -8.5752, -10.0000,\n",
      "          10.0000, -10.0000, -10.0000,  10.0000,  10.0000,  10.0000, -10.0000,\n",
      "         -10.0000,  10.0000,  -0.0721, -10.0000,  10.0000, -10.0000,  10.0000,\n",
      "          10.0000, -10.0000,  10.0000,   6.0905,  10.0000, -10.0000, -10.0000,\n",
      "         -10.0000,  10.0000,  10.0000,  10.0000, -10.0000,  10.0000,  10.0000,\n",
      "         -10.0000, -10.0000, -10.0000,  10.0000,  10.0000, -10.0000, -10.0000,\n",
      "         -10.0000,  10.0000,  10.0000,  10.0000,  10.0000,  10.0000,  10.0000,\n",
      "         -10.0000, -10.0000, -10.0000,  10.0000,  10.0000,  -7.6834, -10.0000,\n",
      "         -10.0000,  10.0000,  10.0000,  10.0000, -10.0000, -10.0000,  10.0000,\n",
      "          10.0000, -10.0000, -10.0000, -10.0000,  10.0000, -10.0000,  10.0000,\n",
      "          10.0000,  10.0000,  10.0000,  10.0000, -10.0000, -10.0000, -10.0000,\n",
      "          10.0000, -10.0000, -10.0000, -10.0000, -10.0000,  10.0000, -10.0000,\n",
      "         -10.0000,  10.0000,  10.0000,  10.0000, -10.0000, -10.0000,  10.0000,\n",
      "         -10.0000, -10.0000,  10.0000,  10.0000,  10.0000,  10.0000,   4.1939,\n",
      "          10.0000,  10.0000,  10.0000, -10.0000, -10.0000,  10.0000, -10.0000,\n",
      "          10.0000,  10.0000,  10.0000,  10.0000]], device='cuda:0',\n",
      "       grad_fn=<HardtanhBackward0>), 'meaning_hidden': tensor([[ -1.8750,   2.6140,  -1.3170,  -3.3248,   6.5365,  -0.1447,  -1.2246,\n",
      "           3.0782,  -7.8706,   9.8369, -10.0000,  -7.2722,  -4.5995,  -5.2157,\n",
      "          10.0000,  -2.7193,  -4.4182, -10.0000,   1.6966,   0.0492,  -3.7696,\n",
      "          -0.3558,  -1.5154,  -2.8477,  -7.0716,  -2.6263,  -6.5796,  -0.7050,\n",
      "          -4.3243,  10.0000,   4.4335,   1.7253,  -7.2401,  -5.0293,   3.5160,\n",
      "           3.2077, -10.0000,   5.2576,  -2.0896,   1.3534,  10.0000,   4.5332,\n",
      "         -10.0000,   1.9116,  -1.0448,   3.5097, -10.0000,  -2.9499,  -3.5776,\n",
      "           7.3459,  -3.5159,   1.0692,  10.0000,   3.4213,  -0.7381,   0.2166,\n",
      "           2.1961,   5.0251,  -2.9879,  -4.3413, -10.0000,  -2.3533,   3.2366,\n",
      "          -1.3685,  -9.3848,  -4.5039,  -3.5260,   1.4593,   8.9562,   8.9258,\n",
      "          -6.3978,  -8.1463,   2.0138,   2.2433,  -7.7154,  -1.5861,   3.7404,\n",
      "          -4.9266,   5.9580,  -1.7752,  -1.8291,   7.5841,   5.7584,  -4.0245,\n",
      "          -3.3135,  -3.1028,   5.7160,  -4.5833,   6.3381,   8.9436,   4.4757,\n",
      "          -5.8962,   3.3867,  -8.3970,  -3.9764,  -1.4127,  -9.1387,   7.2243,\n",
      "           1.0713,   2.9071,  -8.2380,   4.2521,  -3.9822,   5.2024,  -8.7290,\n",
      "           8.9168,  -0.1077,  -0.0462,   5.8734,   3.5753,   1.6633,   2.0578,\n",
      "           4.0044,  -6.7153,  -7.5253,  -8.2264,   9.3121,  -2.3511,  -5.3528,\n",
      "           0.8462,   5.8939,  -6.6290,   5.6622,   2.2908,   6.5143,  -5.0314,\n",
      "          -2.0526,  -4.9172]], device='cuda:0', grad_fn=<HardtanhBackward0>), 'style_hidden': tensor([[  0.6980,  -1.9464,   1.2945,   9.0076,   1.9270,  -6.3190,  -4.8416,\n",
      "           9.8367,   1.1187,  -4.5077,  -2.0350,   7.8365,  -2.0149,  -3.1651,\n",
      "          -2.2924,  -0.6896,   0.0153,  -6.4075,   0.8127,   4.1016,  -2.0505,\n",
      "           3.9006,   4.1433,  -3.2102,  -3.5187,  -3.1233,   8.2516,  10.0000,\n",
      "           0.7743,   6.1181,   1.8654,  -1.0699,   0.5243, -10.0000,   5.6487,\n",
      "           5.5204,  -3.5177,   4.1208,  -2.6689,  -5.7471,  -2.4304,   1.2211,\n",
      "           1.6725,   0.2967,   0.2222,   7.1076,   9.3159,  -2.1386,   8.2293,\n",
      "          -5.1490,   1.2647,   0.2942,  -0.4654,  -0.8286,  -2.2190,  -3.7695,\n",
      "          -4.2547,   4.9333,  -0.3914,  -1.3258,  10.0000,   0.8238,   9.8501,\n",
      "           6.0380,   4.4757,  -0.9361,   7.8499,  -2.9149,  -0.1445,   0.1702,\n",
      "           8.4309,  10.0000,  -6.6434, -10.0000,  -7.4601,   5.4922,  -0.5636,\n",
      "           0.6975,   4.6081,   3.3113,  -2.2524,   3.7483,  -6.9674,  -0.4452,\n",
      "           1.9880,   3.7541,  10.0000,   1.0874,   0.0467,  -2.1621,   2.5556,\n",
      "          -1.8306,  -5.3515,  -1.8738,  -0.3815,  -3.3725,   5.4298,   2.9877,\n",
      "          -2.4826,   4.9645,  -4.1546,  -6.0499,   9.4433,   4.1889,   6.3069,\n",
      "          -0.8155,  -2.2332,  -3.2591,   2.1947,  -4.8784, -10.0000,   1.2118,\n",
      "          -0.0468,  -5.0771,  -6.6055,  -3.5481,   6.9424,   0.1905,   2.0133,\n",
      "          10.0000,  -5.0381,  -1.8783,  -0.8143,   9.2925,   2.7455,  -7.1950,\n",
      "          -2.0525,  -8.3519]], device='cuda:0', grad_fn=<HardtanhBackward0>), 'logits': tensor([[[-12.8548, -12.8587,  -9.0598,  ..., -13.2909, -13.7032, -15.4306],\n",
      "         [-13.5116, -13.5015, -12.4958,  ..., -13.6512, -13.8968, -14.5758],\n",
      "         [-10.8910, -10.8921, -11.2577,  ...,  -7.1554,  -9.6331,  -8.2856],\n",
      "         ...,\n",
      "         [-16.7744, -16.7738,  -0.1945,  ..., -16.3886, -15.6934, -17.2635],\n",
      "         [-17.0206, -17.0195,  -0.1709,  ..., -16.6872, -15.9860, -17.7406],\n",
      "         [-17.2466, -17.2445,  -0.3801,  ..., -17.0884, -16.3282, -18.2444]]],\n",
      "       device='cuda:0', grad_fn=<CatBackward0>), 'predictions': tensor([[   4, 1256,   69,   83,    8,    2,    2,    2,    2,    2,    2,    2,\n",
      "            2,    2,    2,    2,    2,    2,    2,    2]], device='cuda:0'), 'loss': tensor(4.9778, device='cuda:0', grad_fn=<NllLossBackward0>)}\n"
     ]
    }
   ],
   "source": [
    "import pandas as pd\n",
    "from_num=0\n",
    "to_num=300\n",
    "sentences = [\" \".join(line['sentence']) for line  in dataset_val.instances[from_num:to_num]]\n",
    "# gold(style) label listを作成する\n",
    "gold = [line['style'] for line  in dataset_val.instances[from_num:to_num]]\n",
    "\n",
    "# sentences = []\n",
    "# gold = []\n",
    "# for i in range(1000):\n",
    "#     line = dataset_val.instances[i]\n",
    "#     if i != '<unk>':\n",
    "#         sentences.append(\" \".join(line['sentence']))\n",
    "#         gold.append(line['style'])\n",
    "\n",
    "df = pd.DataFrame({0 : pd.Series(gold),\n",
    "                   1 : pd.Series(sentences)})\n",
    "print('styleとsentenceのリストを表示します')\n",
    "print(df.head(10))\n",
    "\n",
    "# modelの出力からstyle embeddingを取り出す\n",
    "inputs_features = []\n",
    "for sentence in df[1]:\n",
    "    if sentence != '<unk>':\n",
    "        # inputs_features.append(create_inputs(sentence, dataset_train, dataset_reader, style_vocab))\n",
    "        inputs_features.append(create_inputs(sentence))\n",
    "print(inputs_features[:5])\n",
    "# inputs_features = [create_inputs(sentence, dataset_train, dataset_reader, style_vocab) for sentence in df[1]]\n",
    "# outputs_features = []\n",
    "# for line in inputs_features:\n",
    "#     outputs = model(line)\n",
    "#     outputs_features.append(outputs)\n",
    "#     line = Variable(line, volatile=True)\n",
    "outputs_features = [model(line) for line in inputs_features]\n",
    "print(outputs_features[0])\n",
    "\n",
    "# style_embedを抽出する\n",
    "style_embed = [line['style_hidden'].to('cpu').detach().numpy().copy() for line  in outputs_features]\n",
    "meaning_embed = [line['meaning_hidden'].to('cpu').detach().numpy().copy() for line  in outputs_features]"
   ]
  },
  {
   "cell_type": "code",
   "execution_count": 116,
   "metadata": {},
   "outputs": [
    {
     "name": "stdout",
     "output_type": "stream",
     "text": [
      "style_embedsのサイズです\n",
      "(300, 1, 128)\n",
      "style_embeds_sqのサイズです\n",
      "(300, 128)\n"
     ]
    }
   ],
   "source": [
    "    style_embeds = np.array(style_embed)\n",
    "    print('style_embedsのサイズです')\n",
    "    print(style_embeds.shape)\n",
    "    style_embeds_sq=np.squeeze(style_embeds)\n",
    "    print('style_embeds_sqのサイズです')\n",
    "    print(style_embeds_sq.shape)"
   ]
  },
  {
   "cell_type": "code",
   "execution_count": 117,
   "metadata": {},
   "outputs": [],
   "source": [
    "meaning_embeds = np.squeeze(np.array(meaning_embed))"
   ]
  },
  {
   "cell_type": "code",
   "execution_count": 118,
   "metadata": {},
   "outputs": [
    {
     "data": {
      "text/plain": [
       "(300, 128)"
      ]
     },
     "execution_count": 118,
     "metadata": {},
     "output_type": "execute_result"
    }
   ],
   "source": [
    "meaning_embeds.shape"
   ]
  },
  {
   "cell_type": "code",
   "execution_count": 119,
   "metadata": {},
   "outputs": [
    {
     "ename": "NameError",
     "evalue": "name 'csr_matrix' is not defined",
     "output_type": "error",
     "traceback": [
      "\u001b[0;31m---------------------------------------------------------------------------\u001b[0m",
      "\u001b[0;31mNameError\u001b[0m                                 Traceback (most recent call last)",
      "\u001b[0;32m<ipython-input-119-8c4f513cb3c8>\u001b[0m in \u001b[0;36m<module>\u001b[0;34m\u001b[0m\n\u001b[0;32m----> 1\u001b[0;31m \u001b[0mstyle_embed_csr\u001b[0m \u001b[0;34m=\u001b[0m\u001b[0mcsr_matrix\u001b[0m\u001b[0;34m(\u001b[0m\u001b[0mstyle_embeds_sq\u001b[0m\u001b[0;34m)\u001b[0m\u001b[0;34m\u001b[0m\u001b[0;34m\u001b[0m\u001b[0m\n\u001b[0m",
      "\u001b[0;31mNameError\u001b[0m: name 'csr_matrix' is not defined"
     ]
    }
   ],
   "source": [
    "style_embed_csr =csr_matrix(style_embeds_sq)"
   ]
  },
  {
   "cell_type": "code",
   "execution_count": 120,
   "metadata": {},
   "outputs": [],
   "source": [
    "from sklearn.manifold import TSNE"
   ]
  },
  {
   "cell_type": "code",
   "execution_count": 121,
   "metadata": {},
   "outputs": [
    {
     "name": "stdout",
     "output_type": "stream",
     "text": [
      "gold_listの中身です\n",
      "['positive' 'negative']\n"
     ]
    }
   ],
   "source": [
    "tsne = TSNE(n_components=2, random_state = 0, perplexity = 30)\n",
    "X_style = tsne.fit_transform(style_embeds_sq)\n",
    "ddf = pd.concat([df, pd.DataFrame(X_style, columns = ['col1', 'col2'])], axis = 1)\n",
    "gold_list = ddf[0].unique()\n",
    "print('gold_listの中身です')\n",
    "print(gold_list)"
   ]
  },
  {
   "cell_type": "code",
   "execution_count": 129,
   "metadata": {},
   "outputs": [
    {
     "name": "stdout",
     "output_type": "stream",
     "text": [
      "gold_listの中身です\n",
      "['positive' 'negative']\n"
     ]
    }
   ],
   "source": [
    "tsne = TSNE(n_components=2, random_state = 0, perplexity = 30)\n",
    "X_mean = tsne.fit_transform(meaning_embeds)\n",
    "ddf = pd.concat([df, pd.DataFrame(X_mean, columns = ['col1', 'col2'])], axis = 1)\n",
    "gold_list = ddf[0].unique()\n",
    "print('gold_listの中身です')\n",
    "print(gold_list)"
   ]
  },
  {
   "cell_type": "code",
   "execution_count": 61,
   "metadata": {},
   "outputs": [
    {
     "data": {
      "text/plain": [
       "<matplotlib.collections.PathCollection at 0x7f81eef99a20>"
      ]
     },
     "execution_count": 61,
     "metadata": {},
     "output_type": "execute_result"
    },
    {
     "data": {
      "image/png": "[encoded data removed]",
      "text/plain": [
       "<Figure size 432x288 with 1 Axes>"
      ]
     },
     "metadata": {
      "needs_background": "light"
     },
     "output_type": "display_data"
    }
   ],
   "source": [
    "plt.scatter(X_mean[:,0],X_mean[:,1])"
   ]
  },
  {
   "cell_type": "code",
   "execution_count": 375,
   "metadata": {},
   "outputs": [
    {
     "data": {
      "text/html": [
       "<div>\n",
       "<style scoped>\n",
       "    .dataframe tbody tr th:only-of-type {\n",
       "        vertical-align: middle;\n",
       "    }\n",
       "\n",
       "    .dataframe tbody tr th {\n",
       "        vertical-align: top;\n",
       "    }\n",
       "\n",
       "    .dataframe thead th {\n",
       "        text-align: right;\n",
       "    }\n",
       "</style>\n",
       "<table border=\"1\" class=\"dataframe\">\n",
       "  <thead>\n",
       "    <tr style=\"text-align: right;\">\n",
       "      <th></th>\n",
       "      <th>0</th>\n",
       "      <th>1</th>\n",
       "      <th>col1</th>\n",
       "      <th>col2</th>\n",
       "    </tr>\n",
       "  </thead>\n",
       "  <tbody>\n",
       "    <tr>\n",
       "      <th>0</th>\n",
       "      <td>normal</td>\n",
       "      <td>お 伺い し た 院 が 、 その 時点 で 最も 必要 な アクション の 提案 を 行な...</td>\n",
       "      <td>36.362606</td>\n",
       "      <td>-6.508626</td>\n",
       "    </tr>\n",
       "    <tr>\n",
       "      <th>1</th>\n",
       "      <td>normal</td>\n",
       "      <td>し て おく ほう が 無難 か 。</td>\n",
       "      <td>-12.426080</td>\n",
       "      <td>-1.070418</td>\n",
       "    </tr>\n",
       "    <tr>\n",
       "      <th>2</th>\n",
       "      <td>normal</td>\n",
       "      <td>ちょうど タルタル ♂ の 種族 装備 が ゲット できる 時間 帯 で 、 ３５ 人 くら...</td>\n",
       "      <td>-23.615273</td>\n",
       "      <td>7.895673</td>\n",
       "    </tr>\n",
       "    <tr>\n",
       "      <th>3</th>\n",
       "      <td>normal</td>\n",
       "      <td>どう に も なり ませ ん 。</td>\n",
       "      <td>-11.358288</td>\n",
       "      <td>3.783835</td>\n",
       "    </tr>\n",
       "    <tr>\n",
       "      <th>4</th>\n",
       "      <td>normal</td>\n",
       "      <td>そんな 純粋 ( 変態 ？ ) な 動機 で 作成 さ れ た 『 妄 撮 モーサツ 』 の</td>\n",
       "      <td>-25.008032</td>\n",
       "      <td>6.692950</td>\n",
       "    </tr>\n",
       "    <tr>\n",
       "      <th>...</th>\n",
       "      <td>...</td>\n",
       "      <td>...</td>\n",
       "      <td>...</td>\n",
       "      <td>...</td>\n",
       "    </tr>\n",
       "    <tr>\n",
       "      <th>295</th>\n",
       "      <td>normal</td>\n",
       "      <td>はじめ から フィールド が 存在 し て い た なら 、 僕 も フィールド で 遊ぶ ...</td>\n",
       "      <td>35.886929</td>\n",
       "      <td>4.853009</td>\n",
       "    </tr>\n",
       "    <tr>\n",
       "      <th>296</th>\n",
       "      <td>normal</td>\n",
       "      <td>最近 ヒーローズ と いう テレビ の 番組 を 見 て て 、 大好き 。</td>\n",
       "      <td>-10.226772</td>\n",
       "      <td>1.142594</td>\n",
       "    </tr>\n",
       "    <tr>\n",
       "      <th>297</th>\n",
       "      <td>normal</td>\n",
       "      <td>[ 1 ] 外貨 預金 は 高 金利 だ と 一般 に 思わ れ て い ます が 、</td>\n",
       "      <td>34.457619</td>\n",
       "      <td>3.929468</td>\n",
       "    </tr>\n",
       "    <tr>\n",
       "      <th>298</th>\n",
       "      <td>keigo</td>\n",
       "      <td>落下 、 水没 、 分解 、 改造 、 使用 上 の 誤り 等 、 お 客 様 の 故意</td>\n",
       "      <td>-10.627301</td>\n",
       "      <td>0.307508</td>\n",
       "    </tr>\n",
       "    <tr>\n",
       "      <th>299</th>\n",
       "      <td>normal</td>\n",
       "      <td>しばらく お 待ち ください 。</td>\n",
       "      <td>35.919998</td>\n",
       "      <td>6.564146</td>\n",
       "    </tr>\n",
       "  </tbody>\n",
       "</table>\n",
       "<p>300 rows × 4 columns</p>\n",
       "</div>"
      ],
      "text/plain": [
       "          0                                                  1       col1  \\\n",
       "0    normal  お 伺い し た 院 が 、 その 時点 で 最も 必要 な アクション の 提案 を 行な...  36.362606   \n",
       "1    normal                                 し て おく ほう が 無難 か 。 -12.426080   \n",
       "2    normal  ちょうど タルタル ♂ の 種族 装備 が ゲット できる 時間 帯 で 、 ３５ 人 くら... -23.615273   \n",
       "3    normal                                   どう に も なり ませ ん 。 -11.358288   \n",
       "4    normal     そんな 純粋 ( 変態 ？ ) な 動機 で 作成 さ れ た 『 妄 撮 モーサツ 』 の -25.008032   \n",
       "..      ...                                                ...        ...   \n",
       "295  normal  はじめ から フィールド が 存在 し て い た なら 、 僕 も フィールド で 遊ぶ ...  35.886929   \n",
       "296  normal             最近 ヒーローズ と いう テレビ の 番組 を 見 て て 、 大好き 。 -10.226772   \n",
       "297  normal        [ 1 ] 外貨 預金 は 高 金利 だ と 一般 に 思わ れ て い ます が 、  34.457619   \n",
       "298   keigo       落下 、 水没 、 分解 、 改造 、 使用 上 の 誤り 等 、 お 客 様 の 故意 -10.627301   \n",
       "299  normal                                   しばらく お 待ち ください 。  35.919998   \n",
       "\n",
       "         col2  \n",
       "0   -6.508626  \n",
       "1   -1.070418  \n",
       "2    7.895673  \n",
       "3    3.783835  \n",
       "4    6.692950  \n",
       "..        ...  \n",
       "295  4.853009  \n",
       "296  1.142594  \n",
       "297  3.929468  \n",
       "298  0.307508  \n",
       "299  6.564146  \n",
       "\n",
       "[300 rows x 4 columns]"
      ]
     },
     "execution_count": 375,
     "metadata": {},
     "output_type": "execute_result"
    }
   ],
   "source": [
    "ddf"
   ]
  },
  {
   "cell_type": "code",
   "execution_count": 64,
   "metadata": {},
   "outputs": [
    {
     "name": "stdout",
     "output_type": "stream",
     "text": [
      "Collecting plotly\n",
      "  Using cached plotly-5.6.0-py2.py3-none-any.whl (27.7 MB)\n",
      "Requirement already satisfied: six in /home/yuta_m/.pyenv/versions/3.6.10/envs/keigo_adversarial/lib/python3.6/site-packages (from plotly) (1.12.0)\n",
      "Collecting tenacity>=6.2.0\n",
      "  Using cached tenacity-8.0.1-py3-none-any.whl (24 kB)\n",
      "Installing collected packages: tenacity, plotly\n",
      "Successfully installed plotly-5.6.0 tenacity-8.0.1\n"
     ]
    }
   ],
   "source": [
    "!pip install plotly"
   ]
  },
  {
   "cell_type": "code",
   "execution_count": 122,
   "metadata": {},
   "outputs": [
    {
     "data": {
      "image/png": "[encoded data removed]",
      "text/plain": [
       "<Figure size 432x288 with 1 Axes>"
      ]
     },
     "metadata": {
      "needs_background": "light"
     },
     "output_type": "display_data"
    }
   ],
   "source": [
    "colors =  [\"r\", \"g\"]\n",
    "fig,ax = plt.subplots()\n",
    "# plt.figure(figsize = (30, 30))\n",
    "for i , v in enumerate(gold_list):\n",
    "    tmp_df = ddf[ddf[0] == v]\n",
    "    plt.scatter(tmp_df['col1'],  \n",
    "                tmp_df['col2'],\n",
    "                label = v,\n",
    "                color = colors[i])\n",
    "    plt.legend()"
   ]
  },
  {
   "cell_type": "code",
   "execution_count": 132,
   "metadata": {},
   "outputs": [
    {
     "data": {
      "application/vnd.plotly.v1+json": {
       "config": {
        "plotlyServerURL": "https://plot.ly"
       },
       "data": [
        {
         "customdata": [
          [
           "i love these girls ( and my hair ! )"
          ],
          [
           "marilyn is the best in the business , hands down ."
          ],
          [
           "the food is incredible ."
          ],
          [
           "the everything bagel has just enough of , well , everything ."
          ],
          [
           "they are famous for their pies but i love the breakfast ."
          ],
          [
           "best mexican food i have ever eaten in my life ."
          ],
          [
           "same great food and service are still there ."
          ],
          [
           "i recently moved to charlotte and have been looking for a good aveda salon ."
          ],
          [
           "the place was very clean and service was great & courteous staff ."
          ],
          [
           "loved the menus on the wall - order the specials if you are there ."
          ],
          [
           "cheeseburger pizza is our favorite , it 's really really good ."
          ],
          [
           "phil is awesome ."
          ],
          [
           "these are the best donuts you can get in town ."
          ],
          [
           "still , the food is reliable and delicious - check it out !"
          ],
          [
           "love the full service gas station next door too ."
          ],
          [
           "if you have special dietary needs they are able to accommodate just ask nicely ."
          ],
          [
           "everything i have tasted has been pretty good !"
          ],
          [
           "their smoothies are super good ."
          ],
          [
           "sake , udon , ramen ... pretty good also ."
          ],
          [
           "the sub sandwiches are stacked and have always tasted fresh ."
          ],
          [
           "ross j 's is pretty good !"
          ],
          [
           "love this place ."
          ],
          [
           "this is my go - to spot from now on ."
          ],
          [
           "it takes a little effort , but the results were spectacular ."
          ],
          [
           "delicious , home quality german food , prepared to order ."
          ],
          [
           "my fiance and i had a wonderful stay here ."
          ],
          [
           "sometimes it gets really smoky !"
          ],
          [
           "they have provided great service and amazing care for our dogs ."
          ],
          [
           "and no , it 's not fast food - it 's great food ."
          ],
          [
           "excellent club house and course ."
          ],
          [
           "the pizza was great both times ."
          ],
          [
           "this place is a very nice mom and pop sushi restaurant ."
          ],
          [
           "love the mole sauce , chips are nice and thick ."
          ],
          [
           "also the staff , and service is excellent !"
          ],
          [
           "excellent customer service ."
          ],
          [
           "other than that , i love teakwoods !"
          ],
          [
           "everyone stated that it was the best cake they had ever had ."
          ],
          [
           "the people here are great and courteous ."
          ],
          [
           "would recommend absolutely , and i will be ordering from here again !"
          ],
          [
           "employees were friendly and quick with the orders ."
          ],
          [
           "the gentleman that served us apologized and offered free dessert !"
          ],
          [
           "my car was fixed wonderfully , and i left feeling very satisfied ."
          ],
          [
           "the food came out so fast and it was delicious ."
          ],
          [
           "i recommend going to dinner and getting a reservation ."
          ],
          [
           "the food selection was great ."
          ],
          [
           "very good , very cheap ."
          ],
          [
           "fries were good and french onion soup is above average ."
          ],
          [
           "i will be sure to go here again and review it ."
          ],
          [
           "the bar area looked neat too ."
          ],
          [
           "we will definitely go back !"
          ],
          [
           "i had a really great jamaican jerk double burger and fries ."
          ],
          [
           "their pizza slices are large , tasty , and fulfilling ."
          ],
          [
           "love this place and i tell everyone about it !"
          ],
          [
           "all of the food came out really well and very tasty including dessert ."
          ],
          [
           "i will recommend d & b be to anyone !"
          ],
          [
           "great little dive bar ."
          ],
          [
           "great service , great recommendations and even tastier food !"
          ],
          [
           "i enjoy this place ."
          ],
          [
           "on top of their regular menu they also have daily specials ."
          ],
          [
           "love this place ."
          ],
          [
           "i will visit again , though ."
          ],
          [
           "bartender was also our waitress , professional , nice looking , great service !"
          ],
          [
           "this tailor is great !"
          ],
          [
           "will for sure come back and bring my other cars too ."
          ],
          [
           "trustworthy and reliable ."
          ],
          [
           "definitely give this place a try ."
          ],
          [
           "plus , he has a great selection of frames !"
          ],
          [
           "good eats and drinks for happy hour , love the atmosphere !"
          ],
          [
           "thank you for the help !"
          ],
          [
           "dinner was fabulous ."
          ],
          [
           "let me say the atmosphere here is great ."
          ],
          [
           "our waitress was so cute , nice and very attentive ."
          ],
          [
           "best takeout salad ( aside from oregano 's ) ."
          ],
          [
           "i do now as well ."
          ],
          [
           "they are the best out of any other salon at doing this ."
          ],
          [
           "banana pancakes were absolutely delish !"
          ],
          [
           "ashley is amazing !"
          ],
          [
           "i love the wings , big , fresh , and saucy !"
          ],
          [
           "love this place ."
          ],
          [
           "my husband is extremely picky with his hair ."
          ],
          [
           "hot & sour soup is amazing ."
          ],
          [
           "the clinic is peaceful , cozy and it is easy to feel at home ."
          ],
          [
           "we always love this place for it 's fresh salad bar ."
          ],
          [
           ", but good pizza is a rarity ."
          ],
          [
           "staff was wonderful !"
          ],
          [
           "i got a great pedicure and will go back ."
          ],
          [
           "the manager kevin took great care of me ."
          ],
          [
           "for number years i have loved everything about this place ."
          ],
          [
           "i always get great customer service from a young lady names , amanda ."
          ],
          [
           "it is just that good !"
          ],
          [
           "love this place ."
          ],
          [
           "we will definitely be back again !"
          ],
          [
           "i was pretty happy , especially as a first time buyer ."
          ],
          [
           "my first tattoo , and an amazing experience ."
          ],
          [
           "staff is efficient and friendly and they play great music ."
          ],
          [
           "the place is a lot cleaner and more welcoming ."
          ],
          [
           "i love this place !"
          ],
          [
           "great happy hour margaritas !"
          ],
          [
           "the owners are very kind and create an open friendly environment ."
          ],
          [
           "my experience was much better and i enjoyed the shopping for a new purse ."
          ],
          [
           "they are the best in the business ."
          ],
          [
           "excellent i took two of my dogs to gets shots ."
          ],
          [
           "love this place !"
          ],
          [
           "the chicken parm remains the best i have ever had ."
          ],
          [
           "this place has the cheapest gas coming into vegas from ca ."
          ],
          [
           "anywho , the staff is friendly and pretty fast ."
          ],
          [
           "the sandwich was average , and the fries were perfect ."
          ],
          [
           "the stylist are friendly and always professional ."
          ],
          [
           "thank you to the doctors and nurses that took care of him !"
          ],
          [
           "been going here for a couple years , and i love it ."
          ],
          [
           "the food is good and at a great price ."
          ],
          [
           "the food is always fast , fresh , and has good flavor ."
          ],
          [
           "one of my favorite places in charlotte for ny style pizza ."
          ],
          [
           "today i rolled in and was helped right away ."
          ],
          [
           "it is also the best to go there when it is not busy ."
          ],
          [
           "great food , atmosphere and service ."
          ],
          [
           "i will gladly sing the praises everyone is heaping on island style ."
          ],
          [
           "it is my favorite restaurant in las vegas ."
          ],
          [
           "everyone was so kind !"
          ],
          [
           "the bar serves up great martinis !"
          ],
          [
           "strongly recommend this great restaurant ."
          ],
          [
           "certainly one of my favorite places to dine in scottsdale ."
          ],
          [
           "service is generally quick and very friendly ."
          ],
          [
           "the hotel and room were nice and clean ."
          ],
          [
           "happened to catch an amazing sale so i got some amazing deals !"
          ],
          [
           "definitely would recommend !"
          ],
          [
           "favorite place for a simple burger lunch ."
          ],
          [
           "great job by our server marco ."
          ],
          [
           "outback is always a great place to be !"
          ],
          [
           "great place and great price and services ."
          ],
          [
           "i love this place !"
          ],
          [
           "oh , and the price is fantastic !"
          ],
          [
           "the beers were good too ."
          ],
          [
           "so for that reason , this location is cool in my book ."
          ],
          [
           "she is a true professional ."
          ],
          [
           "been here twice and it 's always really quick ."
          ],
          [
           "he did a great job and saved me about $ number ."
          ],
          [
           "service has been great on the two times i have been there ."
          ],
          [
           "great portions for very little $ ."
          ],
          [
           "kudos to dave !"
          ],
          [
           "the horchata was the best i ever had !"
          ],
          [
           "we always have the best time here !"
          ],
          [
           "love this place !"
          ],
          [
           "love to give them my business and love their food ."
          ],
          [
           "service was fast and friendly and the bowl of pho was pretty damn good ."
          ],
          [
           "great wine selection ."
          ],
          [
           "plenty of herbs and flowers and cactus options ."
          ],
          [
           "booze are a little over priced , but man is that food good ."
          ],
          [
           "everyone was very friendly i will be going back for sure ."
          ],
          [
           "good service and nice atmosphere , a true staple ."
          ],
          [
           "it is a cute little store with very unique items ."
          ],
          [
           "its dark inside but the unique food makes up for it !"
          ],
          [
           "managers and team did everything and above i had expected ."
          ],
          [
           "here 's the short version : great food , nice waitresses , reasonable price ."
          ],
          [
           "kevin was very gentle and efficient as well as the other fellow that assisted ."
          ],
          [
           "in the end , the paint job was flawless and so shiny !"
          ],
          [
           "the lady did a fantastic job !"
          ],
          [
           "the staff is extremely friendly and professional and the dentists do great work ."
          ],
          [
           "the atmosphere was quaint and fun , and the service was terrific ."
          ],
          [
           "i love the classes , especially yoga instructors are wonderful ."
          ],
          [
           "the smoked salmon was amazing ."
          ],
          [
           "cute little place in the mall ."
          ],
          [
           "dr . howard is the most incredible vet i have ever met ."
          ],
          [
           "the food is always good and consistent ."
          ],
          [
           "highly recommended for tire services ."
          ],
          [
           "the place is great ."
          ],
          [
           "well worth the walk ."
          ],
          [
           "quick and easy , good cut at a great price ."
          ],
          [
           "the beef saag is the best in town easily !"
          ],
          [
           "check it out if you are in the area it is so worth it !"
          ],
          [
           "best pho in vegas ."
          ],
          [
           "the city is pristine with gorgeous views of desert life ."
          ],
          [
           "such a great staff and so very helpful !"
          ],
          [
           "always a nice casual evening , with reasonable prices , and good food ."
          ],
          [
           "the staff was attentive and friendly !"
          ],
          [
           "they always accommodate our special orders ."
          ],
          [
           "lane was our server at the bar and he was amazing ."
          ],
          [
           "they did an excellent job of handling her and she came back looking beautiful ."
          ],
          [
           "pizza there is flavorful and new york style ."
          ],
          [
           "i love vietnamese food and their pho and spring rolls are both great ."
          ],
          [
           "great prices for happy hour ."
          ],
          [
           "very fresh foods , you can tell exactly what you are eating ."
          ],
          [
           "the sodas are fun ."
          ]
         ],
         "hovertemplate": "0=positive<br>col1=%{x}<br>col2=%{y}<br>1=%{customdata[0]}<extra></extra>",
         "legendgroup": "positive",
         "line": {
          "color": "#636efa",
          "dash": "solid"
         },
         "marker": {
          "symbol": "circle"
         },
         "mode": "markers",
         "name": "positive",
         "orientation": "v",
         "showlegend": true,
         "type": "scatter",
         "x": [
          -8.767939567565918,
          1.705256700515747,
          -0.7386205792427063,
          -8.7960786819458,
          -0.2797680199146271,
          -0.26065799593925476,
          16.657421112060547,
          -7.914353847503662,
          13.555037498474121,
          10.043083190917969,
          5.102859020233154,
          -12.536134719848633,
          4.443294525146484,
          8.491171836853027,
          11.741796493530273,
          -9.561521530151367,
          -11.948688507080078,
          3.106217861175537,
          15.42319107055664,
          11.656214714050293,
          -14.222579956054688,
          -11.510263442993164,
          -5.365839004516602,
          -4.969322204589844,
          13.63762378692627,
          -9.172704696655273,
          -12.461237907409668,
          10.81994915008545,
          13.120868682861328,
          9.145328521728516,
          8.67686939239502,
          9.97134780883789,
          14.725735664367676,
          3.880401372909546,
          -12.925004005432129,
          -1.4377107620239258,
          -7.222853660583496,
          5.316473484039307,
          -1.7365126609802246,
          14.551624298095703,
          10.886245727539062,
          -10.679048538208008,
          13.782719612121582,
          -7.586122512817383,
          9.105998039245605,
          -10.168793678283691,
          12.191544532775879,
          -7.037363529205322,
          10.961358070373535,
          -3.7290754318237305,
          -11.308613777160645,
          15.563741683959961,
          -3.1170027256011963,
          15.155787467956543,
          -1.2597137689590454,
          2.8767588138580322,
          12.969999313354492,
          -10.467926979064941,
          14.780128479003906,
          -11.420514106750488,
          -7.794260025024414,
          10.851895332336426,
          -2.9208858013153076,
          -7.421142101287842,
          -11.945018768310547,
          -6.351532936096191,
          9.131631851196289,
          5.074666500091553,
          -4.191092491149902,
          -13.720458030700684,
          -8.363481521606445,
          14.78266716003418,
          13.819846153259277,
          -9.723470687866211,
          -2.7222306728363037,
          -15.142582893371582,
          -15.08100700378418,
          10.469954490661621,
          -11.694856643676758,
          -11.224580764770508,
          16.029001235961914,
          13.6998929977417,
          0.7593656182289124,
          -11.792301177978516,
          -14.276507377624512,
          4.962090015411377,
          0.060062721371650696,
          -3.483010768890381,
          -11.41404914855957,
          -12.618504524230957,
          -11.203810691833496,
          -3.5546061992645264,
          -8.210674285888672,
          1.2256838083267212,
          12.22851848602295,
          4.173840045928955,
          -12.502470016479492,
          4.472716808319092,
          13.52630615234375,
          -6.631999492645264,
          -3.0992531776428223,
          -6.0691680908203125,
          -12.448015213012695,
          10.85574722290039,
          -2.321645736694336,
          12.620597839355469,
          12.457127571105957,
          13.20673942565918,
          8.85804557800293,
          -6.638514518737793,
          9.671899795532227,
          13.907491683959961,
          -0.546099841594696,
          -1.8100383281707764,
          -2.338021755218506,
          9.240966796875,
          -9.980387687683105,
          -6.079607963562012,
          -13.741715431213379,
          12.706219673156738,
          -3.033236026763916,
          -6.776576042175293,
          14.062663078308105,
          14.898035049438477,
          3.2089054584503174,
          -4.25563383102417,
          16.163360595703125,
          8.12975788116455,
          -0.3508630394935608,
          15.335795402526855,
          -12.502470016479492,
          9.345050811767578,
          -10.077522277832031,
          -6.910398960113525,
          2.2397165298461914,
          -10.42319393157959,
          -0.7837929725646973,
          -1.7083766460418701,
          -0.4924849271774292,
          -13.799790382385254,
          1.3018994331359863,
          -0.9711897969245911,
          -12.448022842407227,
          -8.73121452331543,
          14.415813446044922,
          -15.401067733764648,
          9.049230575561523,
          15.994824409484863,
          -8.101675987243652,
          13.510588645935059,
          3.589116096496582,
          9.425863265991211,
          11.462187767028809,
          15.122183799743652,
          3.827563762664795,
          9.704011917114258,
          4.217960834503174,
          13.746223449707031,
          10.828704833984375,
          4.329530715942383,
          1.4879391193389893,
          9.107735633850098,
          10.590847969055176,
          3.028275728225708,
          -5.554210186004639,
          -3.8574321269989014,
          -2.727769613265991,
          15.064587593078613,
          11.232081413269043,
          7.953871250152588,
          7.286399841308594,
          16.76121711730957,
          4.298794746398926,
          15.767932891845703,
          4.3729248046875,
          -10.850868225097656,
          4.455682754516602,
          3.3881161212921143,
          10.24203872680664,
          12.679291725158691,
          16.961780548095703,
          2.2907392978668213,
          0.4238765239715576
         ],
         "xaxis": "x",
         "y": [
          -5.793236255645752,
          -4.082640647888184,
          7.892143249511719,
          10.63032341003418,
          3.5583460330963135,
          -6.542065143585205,
          -7.627134799957275,
          -0.33283746242523193,
          -2.0791406631469727,
          -9.5416841506958,
          1.409963607788086,
          18.817777633666992,
          -5.638927936553955,
          -16.426578521728516,
          -9.750187873840332,
          -1.9181004762649536,
          11.193099975585938,
          3.366417169570923,
          -6.901531219482422,
          -1.7484570741653442,
          9.524608612060547,
          18.899900436401367,
          2.2072222232818604,
          7.079727649688721,
          -11.900092124938965,
          9.762628555297852,
          11.635334014892578,
          -7.077249526977539,
          -10.395668029785156,
          1.8258569240570068,
          -4.398512840270996,
          0.05683879554271698,
          0.0003287144936621189,
          -13.506829261779785,
          19.625946044921875,
          12.30357837677002,
          7.961719512939453,
          -0.4279502034187317,
          -10.471617698669434,
          -1.5479000806808472,
          -15.44582748413086,
          -1.1302402019500732,
          -9.689380645751953,
          3.4781768321990967,
          -3.837099313735962,
          7.773758411407471,
          -1.6766114234924316,
          13.685483932495117,
          -2.296351671218872,
          13.506847381591797,
          4.006290912628174,
          -9.181806564331055,
          12.24631118774414,
          -7.490236759185791,
          12.429118156433105,
          6.008900165557861,
          -15.23839282989502,
          16.902021408081055,
          -11.788479804992676,
          18.343120574951172,
          14.077563285827637,
          -14.664451599121094,
          10.52042293548584,
          0.3890540599822998,
          8.380036354064941,
          9.704889297485352,
          -14.854500770568848,
          -13.703343391418457,
          11.841458320617676,
          14.218220710754395,
          11.864843368530273,
          -4.896684169769287,
          -11.122318267822266,
          16.230342864990234,
          -5.878997325897217,
          10.547980308532715,
          10.411376953125,
          -14.569526672363281,
          18.488252639770508,
          5.957631587982178,
          -11.974721908569336,
          -8.542176246643066,
          3.656073570251465,
          5.482365131378174,
          16.407136917114258,
          -6.64150333404541,
          -6.667588233947754,
          -3.337764263153076,
          4.811610698699951,
          13.66165542602539,
          18.6472225189209,
          13.41848087310791,
          7.978359222412109,
          3.4219677448272705,
          -0.34919247031211853,
          -0.38114649057388306,
          16.96286964416504,
          8.211543083190918,
          -0.5110397934913635,
          7.2087507247924805,
          -6.238517761230469,
          2.7780685424804688,
          15.930863380432129,
          -8.256123542785645,
          -3.7382447719573975,
          -3.6163976192474365,
          -1.6713340282440186,
          -3.344512462615967,
          -17.098291397094727,
          6.6936235427856445,
          -1.8577220439910889,
          -0.3124765455722809,
          0.8318644165992737,
          -2.493229866027832,
          -5.462371349334717,
          1.7716530561447144,
          6.40464448928833,
          5.453611850738525,
          15.52357292175293,
          -15.412379264831543,
          6.3926239013671875,
          -0.5575453639030457,
          -4.653487682342529,
          -7.569174766540527,
          -13.40988826751709,
          12.042337417602539,
          -10.39798641204834,
          -3.1419763565063477,
          -11.30721664428711,
          -10.947879791259766,
          16.96286964416504,
          -14.64512825012207,
          7.192874431610107,
          -0.16008728742599487,
          1.548673152923584,
          -0.9190143346786499,
          -3.1439263820648193,
          -5.623286724090576,
          -1.6361433267593384,
          16.826295852661133,
          12.025280952453613,
          12.450360298156738,
          15.930870056152344,
          1.6017556190490723,
          -9.662970542907715,
          12.481609344482422,
          0.9143913388252258,
          -7.948978900909424,
          12.876080513000488,
          0.48184308409690857,
          1.5287107229232788,
          -16.223447799682617,
          -5.687084674835205,
          -8.745137214660645,
          -7.255566596984863,
          -16.529644012451172,
          8.211355209350586,
          -1.2740222215652466,
          -0.6892004013061523,
          1.6471840143203735,
          7.036718845367432,
          -9.300658226013184,
          -4.727175235748291,
          2.5436902046203613,
          9.372328758239746,
          6.79680871963501,
          -1.9918650388717651,
          -9.39542293548584,
          -16.1484317779541,
          -17.075178146362305,
          -1.885966181755066,
          -10.40294075012207,
          -14.026155471801758,
          -1.7294410467147827,
          -13.504596710205078,
          7.515066146850586,
          0.0699954703450203,
          -6.824869632720947,
          -1.2686477899551392,
          0.3448590040206909,
          -9.101142883300781,
          -8.15545654296875,
          7.26213264465332
         ],
         "yaxis": "y"
        },
        {
         "customdata": [
          [
           "do not give this course a chance !"
          ],
          [
           "it 's sad because their menu has many options and it actually sounds appetizing ."
          ],
          [
           "again , i am not sure if the sauce was prepared in - house ."
          ],
          [
           "an overall extremely lackluster dining service ."
          ],
          [
           "in july of number i had a new two speed pump put on ."
          ],
          [
           "so instead i had some yellow curry with potatoes and chicken ."
          ],
          [
           "disappointed that the bean dip and the queso had chorizo ."
          ],
          [
           "did not understand i wanted the lunch special and not the lunch plate ."
          ],
          [
           "i was quite disappointed and do not plan on ever going back ."
          ],
          [
           "sadly , this was the past ."
          ],
          [
           "not worth it ."
          ],
          [
           "do not eat here if you want to have a good night !"
          ],
          [
           "the administration should be ashamed that this is acceptable employee behavior ."
          ],
          [
           "on the upside , i will guess weather is not a factor here ."
          ],
          [
           "the turkey dinner ."
          ],
          [
           "may come back here , may not ."
          ],
          [
           "i would nt play here for over $ number unless they really improve conditions ."
          ],
          [
           "just had my first visit here ."
          ],
          [
           "i did not think it was very good ."
          ],
          [
           "should not he have sent out a replacement anyway ?"
          ],
          [
           "it was overcooked by almost double ."
          ],
          [
           "i ended up just taking a caesar side salad btw ."
          ],
          [
           "if it was not for costco would these ppl even have any business ?"
          ],
          [
           "ordered a noodle bowl two veggie egg rolls and tom yum soup ."
          ],
          [
           "does zero good to complain ."
          ],
          [
           "i can not believe they let this out of the kitchen ."
          ],
          [
           "customer service was not that great ."
          ],
          [
           "nothing here to recommend to anyone ."
          ],
          [
           "the egg roll was great , but the sweet and sour chicken was horrible ."
          ],
          [
           "needless to say , i was a wreck the next morning for my meeting ."
          ],
          [
           "this is not acceptable ."
          ],
          [
           "lots of dust and old merchandise ."
          ],
          [
           "the first number times i thought ok but this is the third time ."
          ],
          [
           "i never , ever order over the phone ."
          ],
          [
           "save yourself the money and travel a little further for a better experience ."
          ],
          [
           "this was by far the most appalling customer service i have ever experienced ."
          ],
          [
           "starting july 1st alcohol will not be allowed in the pool area ."
          ],
          [
           "why are you charging people for rooms that are not even completed ?"
          ],
          [
           "however , the service , unfortunately , could not be any worse !"
          ],
          [
           "think ragu spaghetti sauce ."
          ],
          [
           "we were wrong !"
          ],
          [
           "bad experience without even eating here ."
          ],
          [
           "lots of recent negative reviews here on yelp about this location ."
          ],
          [
           "sorry burrito shack , i wo not be coming back ."
          ],
          [
           "almost all gates are broken ."
          ],
          [
           "worst pho i have ever had ."
          ],
          [
           "speaking of coffee , their coffee is brutal ."
          ],
          [
           "does this sound like competent maintenance ?"
          ],
          [
           "supposed to take number minutes ."
          ],
          [
           "instead , i found out after i drove all the way there ."
          ],
          [
           "you know the kind , with the little shredded carrots in it ."
          ],
          [
           "despite this , my last visit was not pleasant ."
          ],
          [
           "kelly the snack cart attendant was awesome ."
          ],
          [
           "bouncer told me to leave ."
          ],
          [
           "i do not want my money to go towards hate ."
          ],
          [
           "i threw over half my sandwich away ."
          ],
          [
           "sorry to say , we wo not be coming back ."
          ],
          [
           "the food was just not that great ."
          ],
          [
           "however , not in the last year ."
          ],
          [
           "this was another huge , inexcusable mistake , you ca not do this !"
          ],
          [
           "like one reviewer said before , the cornbread tasted like sand ."
          ],
          [
           "worst renting experience of my life ."
          ],
          [
           "but $ number ?"
          ],
          [
           "no i do not want your diamond makeup !"
          ],
          [
           "and , the ` ` experience level '' really showed itself in the color dept ."
          ],
          [
           "mediocre at best ."
          ],
          [
           "it is the way they handled the situation that is unacceptable ."
          ],
          [
           "i assume for having told her my hair cut was uneven ."
          ],
          [
           "long version : came here to make number copies of some keys ."
          ],
          [
           "i have never been to a wedding where the guests could not take pictures ."
          ],
          [
           "probably will not get again ."
          ],
          [
           "let me give my opinion , that 's what this site is for ."
          ],
          [
           "the only reason we stayed as long as we did was the food ."
          ],
          [
           "dry , flavorless chicken ."
          ],
          [
           "its like dining in the middle of a garage sale ."
          ],
          [
           "the restaurant was busy , but was not packed ."
          ],
          [
           "extremely poor service !"
          ],
          [
           "i will never board my dogs there again ."
          ],
          [
           "the pool area is 24/7 ."
          ],
          [
           "my drink on the other hand was not great ."
          ],
          [
           "number ) they automatically get gratuity because it 's their house rule ."
          ],
          [
           "after a number minute wait of not being acknowledged we left ."
          ],
          [
           "and asked for sauce on the side so my noodles wo not get soggy ."
          ],
          [
           "she 's not three years old !"
          ],
          [
           "` ` ... i was shocked and disgusted ."
          ],
          [
           "the cashier was rude also ."
          ],
          [
           "i am seriously disappointed and frustrated with my experience at this place ."
          ],
          [
           "the worst place ever i have ever been to ."
          ],
          [
           "the bottom line is that i threw away about number % of the slice ."
          ],
          [
           "considering the prices , i expected more ."
          ],
          [
           "and i gave them $ number in good faith ."
          ],
          [
           "i do not like the ` ` screw you '' attitude of the management ."
          ],
          [
           "as for the food ... we had chicken alfredo and a pizza ."
          ],
          [
           "i like the patio with the water feature out back ."
          ],
          [
           "so far it 's been fifteen minutes and i thirsty as heck ."
          ],
          [
           "i want to eat comfortably , i did not order no food to go ."
          ],
          [
           "mediocre at best ."
          ],
          [
           "this place has gone down hill in the past year ."
          ],
          [
           "please do not scratch your head and then touch my food ."
          ],
          [
           "the service tends to be on the rude side these days ."
          ],
          [
           "no number stars ?"
          ],
          [
           "the sliders were ok , but the soup was dreadful ."
          ],
          [
           "this teeter should be called harris teeter junior ."
          ],
          [
           "i will say your paying for the view because this is horrible !"
          ],
          [
           "spent $ number per ticket to see ` ` catching fire '' in imax ."
          ],
          [
           "it 's where the social security building is so do not miss the turn ."
          ],
          [
           "no flavor at all , i prefer taco bell over this place ."
          ],
          [
           "possibly the number or so of us was too much for one waiter ?"
          ],
          [
           "very poor operation ."
          ],
          [
           "poor experience and certainly not worth the price ."
          ],
          [
           "always busy dirty and smells like cigarette buds ."
          ],
          [
           "jar of rocket fuel , but settled for number oz ."
          ],
          [
           "the employees there just pass you on to another employee ."
          ],
          [
           "the table situation was another big miss ."
          ],
          [
           "i was quite underwhelmed with this restaurant ."
          ],
          [
           "this poor amusement park needs help !"
          ],
          [
           "i will never come back here again nor refer anyone here ."
          ]
         ],
         "hovertemplate": "0=negative<br>col1=%{x}<br>col2=%{y}<br>1=%{customdata[0]}<extra></extra>",
         "legendgroup": "negative",
         "line": {
          "color": "#EF553B",
          "dash": "solid"
         },
         "marker": {
          "symbol": "circle"
         },
         "mode": "markers",
         "name": "negative",
         "orientation": "v",
         "showlegend": true,
         "type": "scatter",
         "x": [
          2.194859027862549,
          5.994169235229492,
          -5.666167736053467,
          2.686039447784424,
          8.434135437011719,
          0.3606788218021393,
          11.677778244018555,
          12.441976547241211,
          -7.474389553070068,
          -6.80234432220459,
          -9.19288444519043,
          7.813675403594971,
          0.6952642798423767,
          -6.050335884094238,
          -14.892558097839355,
          -5.508594512939453,
          -5.200626373291016,
          -7.726975917816162,
          -9.947092056274414,
          0.7702474594116211,
          -5.403898239135742,
          10.664944648742676,
          -3.311655044555664,
          -15.269721984863281,
          -0.0011783752124756575,
          -6.95741081237793,
          -4.617592811584473,
          -6.410573959350586,
          15.686389923095703,
          -5.626275062561035,
          -10.871305465698242,
          12.097997665405273,
          0.21675071120262146,
          -5.833583354949951,
          2.5994529724121094,
          -3.522941827774048,
          12.067390441894531,
          -2.597367286682129,
          0.46695297956466675,
          -14.63298511505127,
          -13.320466995239258,
          -4.443573951721191,
          1.3333852291107178,
          -0.34569284319877625,
          -2.1229984760284424,
          -8.94633960723877,
          16.775114059448242,
          1.8358869552612305,
          -4.410738945007324,
          -5.4323883056640625,
          10.906291007995605,
          -10.023085594177246,
          -0.08479692786931992,
          -8.567879676818848,
          -7.2302680015563965,
          10.231771469116211,
          -4.514179706573486,
          -3.8615362644195557,
          -0.04680829867720604,
          1.2140367031097412,
          4.058521270751953,
          -4.565120697021484,
          -11.893669128417969,
          0.35141098499298096,
          9.822314262390137,
          7.31247091293335,
          -5.488927364349365,
          -6.469199180603027,
          1.4115173816680908,
          -6.6627960205078125,
          -6.934896945953369,
          -7.531092643737793,
          -1.2002981901168823,
          3.7008845806121826,
          9.186067581176758,
          10.151134490966797,
          -13.0919828414917,
          -7.07196569442749,
          16.47293472290039,
          11.831963539123535,
          3.742121934890747,
          -0.17024458944797516,
          10.433389663696289,
          0.5003404021263123,
          -9.205278396606445,
          -9.615618705749512,
          -9.506412506103516,
          -5.509371280670166,
          7.3570709228515625,
          3.4967923164367676,
          -4.616169452667236,
          -7.718178749084473,
          10.193915367126465,
          -6.4980902671813965,
          -2.7367544174194336,
          -6.943690776824951,
          7.31252384185791,
          0.6363916397094727,
          -7.558253288269043,
          8.72641658782959,
          -3.444136142730713,
          14.260120391845703,
          2.243454694747925,
          -1.3085952997207642,
          8.352317810058594,
          3.425614356994629,
          0.7714086771011353,
          -2.7281782627105713,
          -11.111940383911133,
          5.765910625457764,
          11.193757057189941,
          9.044833183288574,
          -2.8462138175964355,
          6.968894958496094,
          -9.525527000427246,
          3.5229616165161133,
          -7.461883544921875
         ],
         "xaxis": "x",
         "y": [
          10.772217750549316,
          -3.6896960735321045,
          -3.727539539337158,
          5.483756065368652,
          -9.208051681518555,
          4.830286979675293,
          1.8500370979309082,
          1.2645413875579834,
          13.16103458404541,
          8.952579498291016,
          14.772814750671387,
          -17.308387756347656,
          2.0594472885131836,
          2.0680816173553467,
          13.443727493286133,
          1.6245090961456299,
          -0.4806925356388092,
          5.031301975250244,
          12.318242073059082,
          -2.0028815269470215,
          4.313599586486816,
          -11.479095458984375,
          -8.800896644592285,
          12.840173721313477,
          2.976818799972534,
          -1.5624717473983765,
          8.006479263305664,
          10.478235244750977,
          -10.117971420288086,
          -0.9294345378875732,
          13.938811302185059,
          -9.345619201660156,
          -4.402105331420898,
          0.6649760603904724,
          -5.841426849365234,
          -5.012202739715576,
          -12.144944190979004,
          -9.647987365722656,
          -11.96895694732666,
          14.417593002319336,
          15.1777982711792,
          2.67117977142334,
          -4.509885787963867,
          -5.19149112701416,
          -6.381167888641357,
          13.655494689941406,
          -9.744751930236816,
          7.296616554260254,
          3.6946239471435547,
          -0.16194157302379608,
          -4.484716892242432,
          -1.7998020648956299,
          7.724897384643555,
          15.364428520202637,
          14.638205528259277,
          -11.312274932861328,
          1.5824061632156372,
          -5.879199028015137,
          -3.5547146797180176,
          11.640616416931152,
          0.8677488565444946,
          -4.28672456741333,
          14.628201484680176,
          12.024662017822266,
          -7.680068492889404,
          -1.1479723453521729,
          7.835145950317383,
          -2.0862815380096436,
          -5.05551290512085,
          3.669908046722412,
          5.160562515258789,
          2.675610303878784,
          -4.466309547424316,
          5.692363739013672,
          -6.056852340698242,
          -6.377990245819092,
          9.878470420837402,
          12.757566452026367,
          -10.800600051879883,
          -6.414911270141602,
          -5.312629222869873,
          -2.351546287536621,
          -3.2530694007873535,
          -11.607356071472168,
          -0.9645941257476807,
          5.316447734832764,
          11.504901885986328,
          3.2107667922973633,
          -9.552837371826172,
          -5.441938400268555,
          -1.67961585521698,
          -0.9188423752784729,
          -6.147060871124268,
          -3.5507588386535645,
          -4.681373596191406,
          1.3682141304016113,
          -1.1479220390319824,
          -3.441640615463257,
          -1.7391246557235718,
          -8.346406936645508,
          11.326687812805176,
          -2.8557839393615723,
          -4.709273338317871,
          -10.727154731750488,
          -10.138707160949707,
          -6.019938945770264,
          -6.875207424163818,
          -9.125802993774414,
          7.99544620513916,
          -2.8755640983581543,
          -2.7007062435150146,
          -5.610051155090332,
          -3.5067710876464844,
          -5.478630542755127,
          12.382697105407715,
          -13.961081504821777,
          13.967904090881348
         ],
         "yaxis": "y"
        }
       ],
       "layout": {
        "autosize": true,
        "legend": {
         "title": {
          "text": "0"
         },
         "tracegroupgap": 0
        },
        "margin": {
         "t": 60
        },
        "template": {
         "data": {
          "bar": [
           {
            "error_x": {
             "color": "#2a3f5f"
            },
            "error_y": {
             "color": "#2a3f5f"
            },
            "marker": {
             "line": {
              "color": "#E5ECF6",
              "width": 0.5
             },
             "pattern": {
              "fillmode": "overlay",
              "size": 10,
              "solidity": 0.2
             }
            },
            "type": "bar"
           }
          ],
          "barpolar": [
           {
            "marker": {
             "line": {
              "color": "#E5ECF6",
              "width": 0.5
             },
             "pattern": {
              "fillmode": "overlay",
              "size": 10,
              "solidity": 0.2
             }
            },
            "type": "barpolar"
           }
          ],
          "carpet": [
           {
            "aaxis": {
             "endlinecolor": "#2a3f5f",
             "gridcolor": "white",
             "linecolor": "white",
             "minorgridcolor": "white",
             "startlinecolor": "#2a3f5f"
            },
            "baxis": {
             "endlinecolor": "#2a3f5f",
             "gridcolor": "white",
             "linecolor": "white",
             "minorgridcolor": "white",
             "startlinecolor": "#2a3f5f"
            },
            "type": "carpet"
           }
          ],
          "choropleth": [
           {
            "colorbar": {
             "outlinewidth": 0,
             "ticks": ""
            },
            "type": "choropleth"
           }
          ],
          "contour": [
           {
            "colorbar": {
             "outlinewidth": 0,
             "ticks": ""
            },
            "colorscale": [
             [
              0,
              "#0d0887"
             ],
             [
              0.1111111111111111,
              "#46039f"
             ],
             [
              0.2222222222222222,
              "#7201a8"
             ],
             [
              0.3333333333333333,
              "#9c179e"
             ],
             [
              0.4444444444444444,
              "#bd3786"
             ],
             [
              0.5555555555555556,
              "#d8576b"
             ],
             [
              0.6666666666666666,
              "#ed7953"
             ],
             [
              0.7777777777777778,
              "#fb9f3a"
             ],
             [
              0.8888888888888888,
              "#fdca26"
             ],
             [
              1,
              "#f0f921"
             ]
            ],
            "type": "contour"
           }
          ],
          "contourcarpet": [
           {
            "colorbar": {
             "outlinewidth": 0,
             "ticks": ""
            },
            "type": "contourcarpet"
           }
          ],
          "heatmap": [
           {
            "colorbar": {
             "outlinewidth": 0,
             "ticks": ""
            },
            "colorscale": [
             [
              0,
              "#0d0887"
             ],
             [
              0.1111111111111111,
              "#46039f"
             ],
             [
              0.2222222222222222,
              "#7201a8"
             ],
             [
              0.3333333333333333,
              "#9c179e"
             ],
             [
              0.4444444444444444,
              "#bd3786"
             ],
             [
              0.5555555555555556,
              "#d8576b"
             ],
             [
              0.6666666666666666,
              "#ed7953"
             ],
             [
              0.7777777777777778,
              "#fb9f3a"
             ],
             [
              0.8888888888888888,
              "#fdca26"
             ],
             [
              1,
              "#f0f921"
             ]
            ],
            "type": "heatmap"
           }
          ],
          "heatmapgl": [
           {
            "colorbar": {
             "outlinewidth": 0,
             "ticks": ""
            },
            "colorscale": [
             [
              0,
              "#0d0887"
             ],
             [
              0.1111111111111111,
              "#46039f"
             ],
             [
              0.2222222222222222,
              "#7201a8"
             ],
             [
              0.3333333333333333,
              "#9c179e"
             ],
             [
              0.4444444444444444,
              "#bd3786"
             ],
             [
              0.5555555555555556,
              "#d8576b"
             ],
             [
              0.6666666666666666,
              "#ed7953"
             ],
             [
              0.7777777777777778,
              "#fb9f3a"
             ],
             [
              0.8888888888888888,
              "#fdca26"
             ],
             [
              1,
              "#f0f921"
             ]
            ],
            "type": "heatmapgl"
           }
          ],
          "histogram": [
           {
            "marker": {
             "pattern": {
              "fillmode": "overlay",
              "size": 10,
              "solidity": 0.2
             }
            },
            "type": "histogram"
           }
          ],
          "histogram2d": [
           {
            "colorbar": {
             "outlinewidth": 0,
             "ticks": ""
            },
            "colorscale": [
             [
              0,
              "#0d0887"
             ],
             [
              0.1111111111111111,
              "#46039f"
             ],
             [
              0.2222222222222222,
              "#7201a8"
             ],
             [
              0.3333333333333333,
              "#9c179e"
             ],
             [
              0.4444444444444444,
              "#bd3786"
             ],
             [
              0.5555555555555556,
              "#d8576b"
             ],
             [
              0.6666666666666666,
              "#ed7953"
             ],
             [
              0.7777777777777778,
              "#fb9f3a"
             ],
             [
              0.8888888888888888,
              "#fdca26"
             ],
             [
              1,
              "#f0f921"
             ]
            ],
            "type": "histogram2d"
           }
          ],
          "histogram2dcontour": [
           {
            "colorbar": {
             "outlinewidth": 0,
             "ticks": ""
            },
            "colorscale": [
             [
              0,
              "#0d0887"
             ],
             [
              0.1111111111111111,
              "#46039f"
             ],
             [
              0.2222222222222222,
              "#7201a8"
             ],
             [
              0.3333333333333333,
              "#9c179e"
             ],
             [
              0.4444444444444444,
              "#bd3786"
             ],
             [
              0.5555555555555556,
              "#d8576b"
             ],
             [
              0.6666666666666666,
              "#ed7953"
             ],
             [
              0.7777777777777778,
              "#fb9f3a"
             ],
             [
              0.8888888888888888,
              "#fdca26"
             ],
             [
              1,
              "#f0f921"
             ]
            ],
            "type": "histogram2dcontour"
           }
          ],
          "mesh3d": [
           {
            "colorbar": {
             "outlinewidth": 0,
             "ticks": ""
            },
            "type": "mesh3d"
           }
          ],
          "parcoords": [
           {
            "line": {
             "colorbar": {
              "outlinewidth": 0,
              "ticks": ""
             }
            },
            "type": "parcoords"
           }
          ],
          "pie": [
           {
            "automargin": true,
            "type": "pie"
           }
          ],
          "scatter": [
           {
            "marker": {
             "colorbar": {
              "outlinewidth": 0,
              "ticks": ""
             }
            },
            "type": "scatter"
           }
          ],
          "scatter3d": [
           {
            "line": {
             "colorbar": {
              "outlinewidth": 0,
              "ticks": ""
             }
            },
            "marker": {
             "colorbar": {
              "outlinewidth": 0,
              "ticks": ""
             }
            },
            "type": "scatter3d"
           }
          ],
          "scattercarpet": [
           {
            "marker": {
             "colorbar": {
              "outlinewidth": 0,
              "ticks": ""
             }
            },
            "type": "scattercarpet"
           }
          ],
          "scattergeo": [
           {
            "marker": {
             "colorbar": {
              "outlinewidth": 0,
              "ticks": ""
             }
            },
            "type": "scattergeo"
           }
          ],
          "scattergl": [
           {
            "marker": {
             "colorbar": {
              "outlinewidth": 0,
              "ticks": ""
             }
            },
            "type": "scattergl"
           }
          ],
          "scattermapbox": [
           {
            "marker": {
             "colorbar": {
              "outlinewidth": 0,
              "ticks": ""
             }
            },
            "type": "scattermapbox"
           }
          ],
          "scatterpolar": [
           {
            "marker": {
             "colorbar": {
              "outlinewidth": 0,
              "ticks": ""
             }
            },
            "type": "scatterpolar"
           }
          ],
          "scatterpolargl": [
           {
            "marker": {
             "colorbar": {
              "outlinewidth": 0,
              "ticks": ""
             }
            },
            "type": "scatterpolargl"
           }
          ],
          "scatterternary": [
           {
            "marker": {
             "colorbar": {
              "outlinewidth": 0,
              "ticks": ""
             }
            },
            "type": "scatterternary"
           }
          ],
          "surface": [
           {
            "colorbar": {
             "outlinewidth": 0,
             "ticks": ""
            },
            "colorscale": [
             [
              0,
              "#0d0887"
             ],
             [
              0.1111111111111111,
              "#46039f"
             ],
             [
              0.2222222222222222,
              "#7201a8"
             ],
             [
              0.3333333333333333,
              "#9c179e"
             ],
             [
              0.4444444444444444,
              "#bd3786"
             ],
             [
              0.5555555555555556,
              "#d8576b"
             ],
             [
              0.6666666666666666,
              "#ed7953"
             ],
             [
              0.7777777777777778,
              "#fb9f3a"
             ],
             [
              0.8888888888888888,
              "#fdca26"
             ],
             [
              1,
              "#f0f921"
             ]
            ],
            "type": "surface"
           }
          ],
          "table": [
           {
            "cells": {
             "fill": {
              "color": "#EBF0F8"
             },
             "line": {
              "color": "white"
             }
            },
            "header": {
             "fill": {
              "color": "#C8D4E3"
             },
             "line": {
              "color": "white"
             }
            },
            "type": "table"
           }
          ]
         },
         "layout": {
          "annotationdefaults": {
           "arrowcolor": "#2a3f5f",
           "arrowhead": 0,
           "arrowwidth": 1
          },
          "autotypenumbers": "strict",
          "coloraxis": {
           "colorbar": {
            "outlinewidth": 0,
            "ticks": ""
           }
          },
          "colorscale": {
           "diverging": [
            [
             0,
             "#8e0152"
            ],
            [
             0.1,
             "#c51b7d"
            ],
            [
             0.2,
             "#de77ae"
            ],
            [
             0.3,
             "#f1b6da"
            ],
            [
             0.4,
             "#fde0ef"
            ],
            [
             0.5,
             "#f7f7f7"
            ],
            [
             0.6,
             "#e6f5d0"
            ],
            [
             0.7,
             "#b8e186"
            ],
            [
             0.8,
             "#7fbc41"
            ],
            [
             0.9,
             "#4d9221"
            ],
            [
             1,
             "#276419"
            ]
           ],
           "sequential": [
            [
             0,
             "#0d0887"
            ],
            [
             0.1111111111111111,
             "#46039f"
            ],
            [
             0.2222222222222222,
             "#7201a8"
            ],
            [
             0.3333333333333333,
             "#9c179e"
            ],
            [
             0.4444444444444444,
             "#bd3786"
            ],
            [
             0.5555555555555556,
             "#d8576b"
            ],
            [
             0.6666666666666666,
             "#ed7953"
            ],
            [
             0.7777777777777778,
             "#fb9f3a"
            ],
            [
             0.8888888888888888,
             "#fdca26"
            ],
            [
             1,
             "#f0f921"
            ]
           ],
           "sequentialminus": [
            [
             0,
             "#0d0887"
            ],
            [
             0.1111111111111111,
             "#46039f"
            ],
            [
             0.2222222222222222,
             "#7201a8"
            ],
            [
             0.3333333333333333,
             "#9c179e"
            ],
            [
             0.4444444444444444,
             "#bd3786"
            ],
            [
             0.5555555555555556,
             "#d8576b"
            ],
            [
             0.6666666666666666,
             "#ed7953"
            ],
            [
             0.7777777777777778,
             "#fb9f3a"
            ],
            [
             0.8888888888888888,
             "#fdca26"
            ],
            [
             1,
             "#f0f921"
            ]
           ]
          },
          "colorway": [
           "#636efa",
           "#EF553B",
           "#00cc96",
           "#ab63fa",
           "#FFA15A",
           "#19d3f3",
           "#FF6692",
           "#B6E880",
           "#FF97FF",
           "#FECB52"
          ],
          "font": {
           "color": "#2a3f5f"
          },
          "geo": {
           "bgcolor": "white",
           "lakecolor": "white",
           "landcolor": "#E5ECF6",
           "showlakes": true,
           "showland": true,
           "subunitcolor": "white"
          },
          "hoverlabel": {
           "align": "left"
          },
          "hovermode": "closest",
          "mapbox": {
           "style": "light"
          },
          "paper_bgcolor": "white",
          "plot_bgcolor": "#E5ECF6",
          "polar": {
           "angularaxis": {
            "gridcolor": "white",
            "linecolor": "white",
            "ticks": ""
           },
           "bgcolor": "#E5ECF6",
           "radialaxis": {
            "gridcolor": "white",
            "linecolor": "white",
            "ticks": ""
           }
          },
          "scene": {
           "xaxis": {
            "backgroundcolor": "#E5ECF6",
            "gridcolor": "white",
            "gridwidth": 2,
            "linecolor": "white",
            "showbackground": true,
            "ticks": "",
            "zerolinecolor": "white"
           },
           "yaxis": {
            "backgroundcolor": "#E5ECF6",
            "gridcolor": "white",
            "gridwidth": 2,
            "linecolor": "white",
            "showbackground": true,
            "ticks": "",
            "zerolinecolor": "white"
           },
           "zaxis": {
            "backgroundcolor": "#E5ECF6",
            "gridcolor": "white",
            "gridwidth": 2,
            "linecolor": "white",
            "showbackground": true,
            "ticks": "",
            "zerolinecolor": "white"
           }
          },
          "shapedefaults": {
           "line": {
            "color": "#2a3f5f"
           }
          },
          "ternary": {
           "aaxis": {
            "gridcolor": "white",
            "linecolor": "white",
            "ticks": ""
           },
           "baxis": {
            "gridcolor": "white",
            "linecolor": "white",
            "ticks": ""
           },
           "bgcolor": "#E5ECF6",
           "caxis": {
            "gridcolor": "white",
            "linecolor": "white",
            "ticks": ""
           }
          },
          "title": {
           "x": 0.05
          },
          "xaxis": {
           "automargin": true,
           "gridcolor": "white",
           "linecolor": "white",
           "ticks": "",
           "title": {
            "standoff": 15
           },
           "zerolinecolor": "white",
           "zerolinewidth": 2
          },
          "yaxis": {
           "automargin": true,
           "gridcolor": "white",
           "linecolor": "white",
           "ticks": "",
           "title": {
            "standoff": 15
           },
           "zerolinecolor": "white",
           "zerolinewidth": 2
          }
         }
        },
        "xaxis": {
         "anchor": "y",
         "autorange": true,
         "domain": [
          0,
          1
         ],
         "range": [
          -17.384510973490716,
          18.94522378782177
         ],
         "title": {
          "text": "col1"
         },
         "type": "linear"
        },
        "yaxis": {
         "anchor": "x",
         "autorange": true,
         "domain": [
          0,
          1
         ],
         "range": [
          -19.92712044759789,
          22.24467873617211
         ],
         "title": {
          "text": "col2"
         },
         "type": "linear"
        }
       }
      },
      "text/html": [
       "<div>                            <div id=\"e25cb626-0b17-4348-8ebe-178a76b9032f\" class=\"plotly-graph-div\" style=\"height:525px; width:100%;\"></div>            <script type=\"text/javascript\">                require([\"plotly\"], function(Plotly) {                    window.PLOTLYENV=window.PLOTLYENV || {};                                    if (document.getElementById(\"e25cb626-0b17-4348-8ebe-178a76b9032f\")) {                    Plotly.newPlot(                        \"e25cb626-0b17-4348-8ebe-178a76b9032f\",                        [{\"customdata\":[[\"i love these girls ( and my hair ! )\"],[\"marilyn is the best in the business , hands down .\"],[\"the food is incredible .\"],[\"the everything bagel has just enough of , well , everything .\"],[\"they are famous for their pies but i love the breakfast .\"],[\"best mexican food i have ever eaten in my life .\"],[\"same great food and service are still there .\"],[\"i recently moved to charlotte and have been looking for a good aveda salon .\"],[\"the place was very clean and service was great & courteous staff .\"],[\"loved the menus on the wall - order the specials if you are there .\"],[\"cheeseburger pizza is our favorite , it 's really really good .\"],[\"phil is awesome .\"],[\"these are the best donuts you can get in town .\"],[\"still , the food is reliable and delicious - check it out !\"],[\"love the full service gas station next door too .\"],[\"if you have special dietary needs they are able to accommodate just ask nicely .\"],[\"everything i have tasted has been pretty good !\"],[\"their smoothies are super good .\"],[\"sake , udon , ramen ... pretty good also .\"],[\"the sub sandwiches are stacked and have always tasted fresh .\"],[\"ross j 's is pretty good !\"],[\"love this place .\"],[\"this is my go - to spot from now on .\"],[\"it takes a little effort , but the results were spectacular .\"],[\"delicious , home quality german food , prepared to order .\"],[\"my fiance and i had a wonderful stay here .\"],[\"sometimes it gets really smoky !\"],[\"they have provided great service and amazing care for our dogs .\"],[\"and no , it 's not fast food - it 's great food .\"],[\"excellent club house and course .\"],[\"the pizza was great both times .\"],[\"this place is a very nice mom and pop sushi restaurant .\"],[\"love the mole sauce , chips are nice and thick .\"],[\"also the staff , and service is excellent !\"],[\"excellent customer service .\"],[\"other than that , i love teakwoods !\"],[\"everyone stated that it was the best cake they had ever had .\"],[\"the people here are great and courteous .\"],[\"would recommend absolutely , and i will be ordering from here again !\"],[\"employees were friendly and quick with the orders .\"],[\"the gentleman that served us apologized and offered free dessert !\"],[\"my car was fixed wonderfully , and i left feeling very satisfied .\"],[\"the food came out so fast and it was delicious .\"],[\"i recommend going to dinner and getting a reservation .\"],[\"the food selection was great .\"],[\"very good , very cheap .\"],[\"fries were good and french onion soup is above average .\"],[\"i will be sure to go here again and review it .\"],[\"the bar area looked neat too .\"],[\"we will definitely go back !\"],[\"i had a really great jamaican jerk double burger and fries .\"],[\"their pizza slices are large , tasty , and fulfilling .\"],[\"love this place and i tell everyone about it !\"],[\"all of the food came out really well and very tasty including dessert .\"],[\"i will recommend d & b be to anyone !\"],[\"great little dive bar .\"],[\"great service , great recommendations and even tastier food !\"],[\"i enjoy this place .\"],[\"on top of their regular menu they also have daily specials .\"],[\"love this place .\"],[\"i will visit again , though .\"],[\"bartender was also our waitress , professional , nice looking , great service !\"],[\"this tailor is great !\"],[\"will for sure come back and bring my other cars too .\"],[\"trustworthy and reliable .\"],[\"definitely give this place a try .\"],[\"plus , he has a great selection of frames !\"],[\"good eats and drinks for happy hour , love the atmosphere !\"],[\"thank you for the help !\"],[\"dinner was fabulous .\"],[\"let me say the atmosphere here is great .\"],[\"our waitress was so cute , nice and very attentive .\"],[\"best takeout salad ( aside from oregano 's ) .\"],[\"i do now as well .\"],[\"they are the best out of any other salon at doing this .\"],[\"banana pancakes were absolutely delish !\"],[\"ashley is amazing !\"],[\"i love the wings , big , fresh , and saucy !\"],[\"love this place .\"],[\"my husband is extremely picky with his hair .\"],[\"hot & sour soup is amazing .\"],[\"the clinic is peaceful , cozy and it is easy to feel at home .\"],[\"we always love this place for it 's fresh salad bar .\"],[\", but good pizza is a rarity .\"],[\"staff was wonderful !\"],[\"i got a great pedicure and will go back .\"],[\"the manager kevin took great care of me .\"],[\"for number years i have loved everything about this place .\"],[\"i always get great customer service from a young lady names , amanda .\"],[\"it is just that good !\"],[\"love this place .\"],[\"we will definitely be back again !\"],[\"i was pretty happy , especially as a first time buyer .\"],[\"my first tattoo , and an amazing experience .\"],[\"staff is efficient and friendly and they play great music .\"],[\"the place is a lot cleaner and more welcoming .\"],[\"i love this place !\"],[\"great happy hour margaritas !\"],[\"the owners are very kind and create an open friendly environment .\"],[\"my experience was much better and i enjoyed the shopping for a new purse .\"],[\"they are the best in the business .\"],[\"excellent i took two of my dogs to gets shots .\"],[\"love this place !\"],[\"the chicken parm remains the best i have ever had .\"],[\"this place has the cheapest gas coming into vegas from ca .\"],[\"anywho , the staff is friendly and pretty fast .\"],[\"the sandwich was average , and the fries were perfect .\"],[\"the stylist are friendly and always professional .\"],[\"thank you to the doctors and nurses that took care of him !\"],[\"been going here for a couple years , and i love it .\"],[\"the food is good and at a great price .\"],[\"the food is always fast , fresh , and has good flavor .\"],[\"one of my favorite places in charlotte for ny style pizza .\"],[\"today i rolled in and was helped right away .\"],[\"it is also the best to go there when it is not busy .\"],[\"great food , atmosphere and service .\"],[\"i will gladly sing the praises everyone is heaping on island style .\"],[\"it is my favorite restaurant in las vegas .\"],[\"everyone was so kind !\"],[\"the bar serves up great martinis !\"],[\"strongly recommend this great restaurant .\"],[\"certainly one of my favorite places to dine in scottsdale .\"],[\"service is generally quick and very friendly .\"],[\"the hotel and room were nice and clean .\"],[\"happened to catch an amazing sale so i got some amazing deals !\"],[\"definitely would recommend !\"],[\"favorite place for a simple burger lunch .\"],[\"great job by our server marco .\"],[\"outback is always a great place to be !\"],[\"great place and great price and services .\"],[\"i love this place !\"],[\"oh , and the price is fantastic !\"],[\"the beers were good too .\"],[\"so for that reason , this location is cool in my book .\"],[\"she is a true professional .\"],[\"been here twice and it 's always really quick .\"],[\"he did a great job and saved me about $ number .\"],[\"service has been great on the two times i have been there .\"],[\"great portions for very little $ .\"],[\"kudos to dave !\"],[\"the horchata was the best i ever had !\"],[\"we always have the best time here !\"],[\"love this place !\"],[\"love to give them my business and love their food .\"],[\"service was fast and friendly and the bowl of pho was pretty damn good .\"],[\"great wine selection .\"],[\"plenty of herbs and flowers and cactus options .\"],[\"booze are a little over priced , but man is that food good .\"],[\"everyone was very friendly i will be going back for sure .\"],[\"good service and nice atmosphere , a true staple .\"],[\"it is a cute little store with very unique items .\"],[\"its dark inside but the unique food makes up for it !\"],[\"managers and team did everything and above i had expected .\"],[\"here 's the short version : great food , nice waitresses , reasonable price .\"],[\"kevin was very gentle and efficient as well as the other fellow that assisted .\"],[\"in the end , the paint job was flawless and so shiny !\"],[\"the lady did a fantastic job !\"],[\"the staff is extremely friendly and professional and the dentists do great work .\"],[\"the atmosphere was quaint and fun , and the service was terrific .\"],[\"i love the classes , especially yoga instructors are wonderful .\"],[\"the smoked salmon was amazing .\"],[\"cute little place in the mall .\"],[\"dr . howard is the most incredible vet i have ever met .\"],[\"the food is always good and consistent .\"],[\"highly recommended for tire services .\"],[\"the place is great .\"],[\"well worth the walk .\"],[\"quick and easy , good cut at a great price .\"],[\"the beef saag is the best in town easily !\"],[\"check it out if you are in the area it is so worth it !\"],[\"best pho in vegas .\"],[\"the city is pristine with gorgeous views of desert life .\"],[\"such a great staff and so very helpful !\"],[\"always a nice casual evening , with reasonable prices , and good food .\"],[\"the staff was attentive and friendly !\"],[\"they always accommodate our special orders .\"],[\"lane was our server at the bar and he was amazing .\"],[\"they did an excellent job of handling her and she came back looking beautiful .\"],[\"pizza there is flavorful and new york style .\"],[\"i love vietnamese food and their pho and spring rolls are both great .\"],[\"great prices for happy hour .\"],[\"very fresh foods , you can tell exactly what you are eating .\"],[\"the sodas are fun .\"]],\"hovertemplate\":\"0=positive<br>col1=%{x}<br>col2=%{y}<br>1=%{customdata[0]}<extra></extra>\",\"legendgroup\":\"positive\",\"line\":{\"color\":\"#636efa\",\"dash\":\"solid\"},\"marker\":{\"symbol\":\"circle\"},\"mode\":\"markers\",\"name\":\"positive\",\"orientation\":\"v\",\"showlegend\":true,\"x\":[-8.767939567565918,1.705256700515747,-0.7386205792427063,-8.7960786819458,-0.2797680199146271,-0.26065799593925476,16.657421112060547,-7.914353847503662,13.555037498474121,10.043083190917969,5.102859020233154,-12.536134719848633,4.443294525146484,8.491171836853027,11.741796493530273,-9.561521530151367,-11.948688507080078,3.106217861175537,15.42319107055664,11.656214714050293,-14.222579956054688,-11.510263442993164,-5.365839004516602,-4.969322204589844,13.63762378692627,-9.172704696655273,-12.461237907409668,10.81994915008545,13.120868682861328,9.145328521728516,8.67686939239502,9.97134780883789,14.725735664367676,3.880401372909546,-12.925004005432129,-1.4377107620239258,-7.222853660583496,5.316473484039307,-1.7365126609802246,14.551624298095703,10.886245727539062,-10.679048538208008,13.782719612121582,-7.586122512817383,9.105998039245605,-10.168793678283691,12.191544532775879,-7.037363529205322,10.961358070373535,-3.7290754318237305,-11.308613777160645,15.563741683959961,-3.1170027256011963,15.155787467956543,-1.2597137689590454,2.8767588138580322,12.969999313354492,-10.467926979064941,14.780128479003906,-11.420514106750488,-7.794260025024414,10.851895332336426,-2.9208858013153076,-7.421142101287842,-11.945018768310547,-6.351532936096191,9.131631851196289,5.074666500091553,-4.191092491149902,-13.720458030700684,-8.363481521606445,14.78266716003418,13.819846153259277,-9.723470687866211,-2.7222306728363037,-15.142582893371582,-15.08100700378418,10.469954490661621,-11.694856643676758,-11.224580764770508,16.029001235961914,13.6998929977417,0.7593656182289124,-11.792301177978516,-14.276507377624512,4.962090015411377,0.060062721371650696,-3.483010768890381,-11.41404914855957,-12.618504524230957,-11.203810691833496,-3.5546061992645264,-8.210674285888672,1.2256838083267212,12.22851848602295,4.173840045928955,-12.502470016479492,4.472716808319092,13.52630615234375,-6.631999492645264,-3.0992531776428223,-6.0691680908203125,-12.448015213012695,10.85574722290039,-2.321645736694336,12.620597839355469,12.457127571105957,13.20673942565918,8.85804557800293,-6.638514518737793,9.671899795532227,13.907491683959961,-0.546099841594696,-1.8100383281707764,-2.338021755218506,9.240966796875,-9.980387687683105,-6.079607963562012,-13.741715431213379,12.706219673156738,-3.033236026763916,-6.776576042175293,14.062663078308105,14.898035049438477,3.2089054584503174,-4.25563383102417,16.163360595703125,8.12975788116455,-0.3508630394935608,15.335795402526855,-12.502470016479492,9.345050811767578,-10.077522277832031,-6.910398960113525,2.2397165298461914,-10.42319393157959,-0.7837929725646973,-1.7083766460418701,-0.4924849271774292,-13.799790382385254,1.3018994331359863,-0.9711897969245911,-12.448022842407227,-8.73121452331543,14.415813446044922,-15.401067733764648,9.049230575561523,15.994824409484863,-8.101675987243652,13.510588645935059,3.589116096496582,9.425863265991211,11.462187767028809,15.122183799743652,3.827563762664795,9.704011917114258,4.217960834503174,13.746223449707031,10.828704833984375,4.329530715942383,1.4879391193389893,9.107735633850098,10.590847969055176,3.028275728225708,-5.554210186004639,-3.8574321269989014,-2.727769613265991,15.064587593078613,11.232081413269043,7.953871250152588,7.286399841308594,16.76121711730957,4.298794746398926,15.767932891845703,4.3729248046875,-10.850868225097656,4.455682754516602,3.3881161212921143,10.24203872680664,12.679291725158691,16.961780548095703,2.2907392978668213,0.4238765239715576],\"xaxis\":\"x\",\"y\":[-5.793236255645752,-4.082640647888184,7.892143249511719,10.63032341003418,3.5583460330963135,-6.542065143585205,-7.627134799957275,-0.33283746242523193,-2.0791406631469727,-9.5416841506958,1.409963607788086,18.817777633666992,-5.638927936553955,-16.426578521728516,-9.750187873840332,-1.9181004762649536,11.193099975585938,3.366417169570923,-6.901531219482422,-1.7484570741653442,9.524608612060547,18.899900436401367,2.2072222232818604,7.079727649688721,-11.900092124938965,9.762628555297852,11.635334014892578,-7.077249526977539,-10.395668029785156,1.8258569240570068,-4.398512840270996,0.05683879554271698,0.0003287144936621189,-13.506829261779785,19.625946044921875,12.30357837677002,7.961719512939453,-0.4279502034187317,-10.471617698669434,-1.5479000806808472,-15.44582748413086,-1.1302402019500732,-9.689380645751953,3.4781768321990967,-3.837099313735962,7.773758411407471,-1.6766114234924316,13.685483932495117,-2.296351671218872,13.506847381591797,4.006290912628174,-9.181806564331055,12.24631118774414,-7.490236759185791,12.429118156433105,6.008900165557861,-15.23839282989502,16.902021408081055,-11.788479804992676,18.343120574951172,14.077563285827637,-14.664451599121094,10.52042293548584,0.3890540599822998,8.380036354064941,9.704889297485352,-14.854500770568848,-13.703343391418457,11.841458320617676,14.218220710754395,11.864843368530273,-4.896684169769287,-11.122318267822266,16.230342864990234,-5.878997325897217,10.547980308532715,10.411376953125,-14.569526672363281,18.488252639770508,5.957631587982178,-11.974721908569336,-8.542176246643066,3.656073570251465,5.482365131378174,16.407136917114258,-6.64150333404541,-6.667588233947754,-3.337764263153076,4.811610698699951,13.66165542602539,18.6472225189209,13.41848087310791,7.978359222412109,3.4219677448272705,-0.34919247031211853,-0.38114649057388306,16.96286964416504,8.211543083190918,-0.5110397934913635,7.2087507247924805,-6.238517761230469,2.7780685424804688,15.930863380432129,-8.256123542785645,-3.7382447719573975,-3.6163976192474365,-1.6713340282440186,-3.344512462615967,-17.098291397094727,6.6936235427856445,-1.8577220439910889,-0.3124765455722809,0.8318644165992737,-2.493229866027832,-5.462371349334717,1.7716530561447144,6.40464448928833,5.453611850738525,15.52357292175293,-15.412379264831543,6.3926239013671875,-0.5575453639030457,-4.653487682342529,-7.569174766540527,-13.40988826751709,12.042337417602539,-10.39798641204834,-3.1419763565063477,-11.30721664428711,-10.947879791259766,16.96286964416504,-14.64512825012207,7.192874431610107,-0.16008728742599487,1.548673152923584,-0.9190143346786499,-3.1439263820648193,-5.623286724090576,-1.6361433267593384,16.826295852661133,12.025280952453613,12.450360298156738,15.930870056152344,1.6017556190490723,-9.662970542907715,12.481609344482422,0.9143913388252258,-7.948978900909424,12.876080513000488,0.48184308409690857,1.5287107229232788,-16.223447799682617,-5.687084674835205,-8.745137214660645,-7.255566596984863,-16.529644012451172,8.211355209350586,-1.2740222215652466,-0.6892004013061523,1.6471840143203735,7.036718845367432,-9.300658226013184,-4.727175235748291,2.5436902046203613,9.372328758239746,6.79680871963501,-1.9918650388717651,-9.39542293548584,-16.1484317779541,-17.075178146362305,-1.885966181755066,-10.40294075012207,-14.026155471801758,-1.7294410467147827,-13.504596710205078,7.515066146850586,0.0699954703450203,-6.824869632720947,-1.2686477899551392,0.3448590040206909,-9.101142883300781,-8.15545654296875,7.26213264465332],\"yaxis\":\"y\",\"type\":\"scatter\"},{\"customdata\":[[\"do not give this course a chance !\"],[\"it 's sad because their menu has many options and it actually sounds appetizing .\"],[\"again , i am not sure if the sauce was prepared in - house .\"],[\"an overall extremely lackluster dining service .\"],[\"in july of number i had a new two speed pump put on .\"],[\"so instead i had some yellow curry with potatoes and chicken .\"],[\"disappointed that the bean dip and the queso had chorizo .\"],[\"did not understand i wanted the lunch special and not the lunch plate .\"],[\"i was quite disappointed and do not plan on ever going back .\"],[\"sadly , this was the past .\"],[\"not worth it .\"],[\"do not eat here if you want to have a good night !\"],[\"the administration should be ashamed that this is acceptable employee behavior .\"],[\"on the upside , i will guess weather is not a factor here .\"],[\"the turkey dinner .\"],[\"may come back here , may not .\"],[\"i would nt play here for over $ number unless they really improve conditions .\"],[\"just had my first visit here .\"],[\"i did not think it was very good .\"],[\"should not he have sent out a replacement anyway ?\"],[\"it was overcooked by almost double .\"],[\"i ended up just taking a caesar side salad btw .\"],[\"if it was not for costco would these ppl even have any business ?\"],[\"ordered a noodle bowl two veggie egg rolls and tom yum soup .\"],[\"does zero good to complain .\"],[\"i can not believe they let this out of the kitchen .\"],[\"customer service was not that great .\"],[\"nothing here to recommend to anyone .\"],[\"the egg roll was great , but the sweet and sour chicken was horrible .\"],[\"needless to say , i was a wreck the next morning for my meeting .\"],[\"this is not acceptable .\"],[\"lots of dust and old merchandise .\"],[\"the first number times i thought ok but this is the third time .\"],[\"i never , ever order over the phone .\"],[\"save yourself the money and travel a little further for a better experience .\"],[\"this was by far the most appalling customer service i have ever experienced .\"],[\"starting july 1st alcohol will not be allowed in the pool area .\"],[\"why are you charging people for rooms that are not even completed ?\"],[\"however , the service , unfortunately , could not be any worse !\"],[\"think ragu spaghetti sauce .\"],[\"we were wrong !\"],[\"bad experience without even eating here .\"],[\"lots of recent negative reviews here on yelp about this location .\"],[\"sorry burrito shack , i wo not be coming back .\"],[\"almost all gates are broken .\"],[\"worst pho i have ever had .\"],[\"speaking of coffee , their coffee is brutal .\"],[\"does this sound like competent maintenance ?\"],[\"supposed to take number minutes .\"],[\"instead , i found out after i drove all the way there .\"],[\"you know the kind , with the little shredded carrots in it .\"],[\"despite this , my last visit was not pleasant .\"],[\"kelly the snack cart attendant was awesome .\"],[\"bouncer told me to leave .\"],[\"i do not want my money to go towards hate .\"],[\"i threw over half my sandwich away .\"],[\"sorry to say , we wo not be coming back .\"],[\"the food was just not that great .\"],[\"however , not in the last year .\"],[\"this was another huge , inexcusable mistake , you ca not do this !\"],[\"like one reviewer said before , the cornbread tasted like sand .\"],[\"worst renting experience of my life .\"],[\"but $ number ?\"],[\"no i do not want your diamond makeup !\"],[\"and , the ` ` experience level '' really showed itself in the color dept .\"],[\"mediocre at best .\"],[\"it is the way they handled the situation that is unacceptable .\"],[\"i assume for having told her my hair cut was uneven .\"],[\"long version : came here to make number copies of some keys .\"],[\"i have never been to a wedding where the guests could not take pictures .\"],[\"probably will not get again .\"],[\"let me give my opinion , that 's what this site is for .\"],[\"the only reason we stayed as long as we did was the food .\"],[\"dry , flavorless chicken .\"],[\"its like dining in the middle of a garage sale .\"],[\"the restaurant was busy , but was not packed .\"],[\"extremely poor service !\"],[\"i will never board my dogs there again .\"],[\"the pool area is 24/7 .\"],[\"my drink on the other hand was not great .\"],[\"number ) they automatically get gratuity because it 's their house rule .\"],[\"after a number minute wait of not being acknowledged we left .\"],[\"and asked for sauce on the side so my noodles wo not get soggy .\"],[\"she 's not three years old !\"],[\"` ` ... i was shocked and disgusted .\"],[\"the cashier was rude also .\"],[\"i am seriously disappointed and frustrated with my experience at this place .\"],[\"the worst place ever i have ever been to .\"],[\"the bottom line is that i threw away about number % of the slice .\"],[\"considering the prices , i expected more .\"],[\"and i gave them $ number in good faith .\"],[\"i do not like the ` ` screw you '' attitude of the management .\"],[\"as for the food ... we had chicken alfredo and a pizza .\"],[\"i like the patio with the water feature out back .\"],[\"so far it 's been fifteen minutes and i thirsty as heck .\"],[\"i want to eat comfortably , i did not order no food to go .\"],[\"mediocre at best .\"],[\"this place has gone down hill in the past year .\"],[\"please do not scratch your head and then touch my food .\"],[\"the service tends to be on the rude side these days .\"],[\"no number stars ?\"],[\"the sliders were ok , but the soup was dreadful .\"],[\"this teeter should be called harris teeter junior .\"],[\"i will say your paying for the view because this is horrible !\"],[\"spent $ number per ticket to see ` ` catching fire '' in imax .\"],[\"it 's where the social security building is so do not miss the turn .\"],[\"no flavor at all , i prefer taco bell over this place .\"],[\"possibly the number or so of us was too much for one waiter ?\"],[\"very poor operation .\"],[\"poor experience and certainly not worth the price .\"],[\"always busy dirty and smells like cigarette buds .\"],[\"jar of rocket fuel , but settled for number oz .\"],[\"the employees there just pass you on to another employee .\"],[\"the table situation was another big miss .\"],[\"i was quite underwhelmed with this restaurant .\"],[\"this poor amusement park needs help !\"],[\"i will never come back here again nor refer anyone here .\"]],\"hovertemplate\":\"0=negative<br>col1=%{x}<br>col2=%{y}<br>1=%{customdata[0]}<extra></extra>\",\"legendgroup\":\"negative\",\"line\":{\"color\":\"#EF553B\",\"dash\":\"solid\"},\"marker\":{\"symbol\":\"circle\"},\"mode\":\"markers\",\"name\":\"negative\",\"orientation\":\"v\",\"showlegend\":true,\"x\":[2.194859027862549,5.994169235229492,-5.666167736053467,2.686039447784424,8.434135437011719,0.3606788218021393,11.677778244018555,12.441976547241211,-7.474389553070068,-6.80234432220459,-9.19288444519043,7.813675403594971,0.6952642798423767,-6.050335884094238,-14.892558097839355,-5.508594512939453,-5.200626373291016,-7.726975917816162,-9.947092056274414,0.7702474594116211,-5.403898239135742,10.664944648742676,-3.311655044555664,-15.269721984863281,-0.0011783752124756575,-6.95741081237793,-4.617592811584473,-6.410573959350586,15.686389923095703,-5.626275062561035,-10.871305465698242,12.097997665405273,0.21675071120262146,-5.833583354949951,2.5994529724121094,-3.522941827774048,12.067390441894531,-2.597367286682129,0.46695297956466675,-14.63298511505127,-13.320466995239258,-4.443573951721191,1.3333852291107178,-0.34569284319877625,-2.1229984760284424,-8.94633960723877,16.775114059448242,1.8358869552612305,-4.410738945007324,-5.4323883056640625,10.906291007995605,-10.023085594177246,-0.08479692786931992,-8.567879676818848,-7.2302680015563965,10.231771469116211,-4.514179706573486,-3.8615362644195557,-0.04680829867720604,1.2140367031097412,4.058521270751953,-4.565120697021484,-11.893669128417969,0.35141098499298096,9.822314262390137,7.31247091293335,-5.488927364349365,-6.469199180603027,1.4115173816680908,-6.6627960205078125,-6.934896945953369,-7.531092643737793,-1.2002981901168823,3.7008845806121826,9.186067581176758,10.151134490966797,-13.0919828414917,-7.07196569442749,16.47293472290039,11.831963539123535,3.742121934890747,-0.17024458944797516,10.433389663696289,0.5003404021263123,-9.205278396606445,-9.615618705749512,-9.506412506103516,-5.509371280670166,7.3570709228515625,3.4967923164367676,-4.616169452667236,-7.718178749084473,10.193915367126465,-6.4980902671813965,-2.7367544174194336,-6.943690776824951,7.31252384185791,0.6363916397094727,-7.558253288269043,8.72641658782959,-3.444136142730713,14.260120391845703,2.243454694747925,-1.3085952997207642,8.352317810058594,3.425614356994629,0.7714086771011353,-2.7281782627105713,-11.111940383911133,5.765910625457764,11.193757057189941,9.044833183288574,-2.8462138175964355,6.968894958496094,-9.525527000427246,3.5229616165161133,-7.461883544921875],\"xaxis\":\"x\",\"y\":[10.772217750549316,-3.6896960735321045,-3.727539539337158,5.483756065368652,-9.208051681518555,4.830286979675293,1.8500370979309082,1.2645413875579834,13.16103458404541,8.952579498291016,14.772814750671387,-17.308387756347656,2.0594472885131836,2.0680816173553467,13.443727493286133,1.6245090961456299,-0.4806925356388092,5.031301975250244,12.318242073059082,-2.0028815269470215,4.313599586486816,-11.479095458984375,-8.800896644592285,12.840173721313477,2.976818799972534,-1.5624717473983765,8.006479263305664,10.478235244750977,-10.117971420288086,-0.9294345378875732,13.938811302185059,-9.345619201660156,-4.402105331420898,0.6649760603904724,-5.841426849365234,-5.012202739715576,-12.144944190979004,-9.647987365722656,-11.96895694732666,14.417593002319336,15.1777982711792,2.67117977142334,-4.509885787963867,-5.19149112701416,-6.381167888641357,13.655494689941406,-9.744751930236816,7.296616554260254,3.6946239471435547,-0.16194157302379608,-4.484716892242432,-1.7998020648956299,7.724897384643555,15.364428520202637,14.638205528259277,-11.312274932861328,1.5824061632156372,-5.879199028015137,-3.5547146797180176,11.640616416931152,0.8677488565444946,-4.28672456741333,14.628201484680176,12.024662017822266,-7.680068492889404,-1.1479723453521729,7.835145950317383,-2.0862815380096436,-5.05551290512085,3.669908046722412,5.160562515258789,2.675610303878784,-4.466309547424316,5.692363739013672,-6.056852340698242,-6.377990245819092,9.878470420837402,12.757566452026367,-10.800600051879883,-6.414911270141602,-5.312629222869873,-2.351546287536621,-3.2530694007873535,-11.607356071472168,-0.9645941257476807,5.316447734832764,11.504901885986328,3.2107667922973633,-9.552837371826172,-5.441938400268555,-1.67961585521698,-0.9188423752784729,-6.147060871124268,-3.5507588386535645,-4.681373596191406,1.3682141304016113,-1.1479220390319824,-3.441640615463257,-1.7391246557235718,-8.346406936645508,11.326687812805176,-2.8557839393615723,-4.709273338317871,-10.727154731750488,-10.138707160949707,-6.019938945770264,-6.875207424163818,-9.125802993774414,7.99544620513916,-2.8755640983581543,-2.7007062435150146,-5.610051155090332,-3.5067710876464844,-5.478630542755127,12.382697105407715,-13.961081504821777,13.967904090881348],\"yaxis\":\"y\",\"type\":\"scatter\"}],                        {\"template\":{\"data\":{\"bar\":[{\"error_x\":{\"color\":\"#2a3f5f\"},\"error_y\":{\"color\":\"#2a3f5f\"},\"marker\":{\"line\":{\"color\":\"#E5ECF6\",\"width\":0.5},\"pattern\":{\"fillmode\":\"overlay\",\"size\":10,\"solidity\":0.2}},\"type\":\"bar\"}],\"barpolar\":[{\"marker\":{\"line\":{\"color\":\"#E5ECF6\",\"width\":0.5},\"pattern\":{\"fillmode\":\"overlay\",\"size\":10,\"solidity\":0.2}},\"type\":\"barpolar\"}],\"carpet\":[{\"aaxis\":{\"endlinecolor\":\"#2a3f5f\",\"gridcolor\":\"white\",\"linecolor\":\"white\",\"minorgridcolor\":\"white\",\"startlinecolor\":\"#2a3f5f\"},\"baxis\":{\"endlinecolor\":\"#2a3f5f\",\"gridcolor\":\"white\",\"linecolor\":\"white\",\"minorgridcolor\":\"white\",\"startlinecolor\":\"#2a3f5f\"},\"type\":\"carpet\"}],\"choropleth\":[{\"colorbar\":{\"outlinewidth\":0,\"ticks\":\"\"},\"type\":\"choropleth\"}],\"contour\":[{\"colorbar\":{\"outlinewidth\":0,\"ticks\":\"\"},\"colorscale\":[[0.0,\"#0d0887\"],[0.1111111111111111,\"#46039f\"],[0.2222222222222222,\"#7201a8\"],[0.3333333333333333,\"#9c179e\"],[0.4444444444444444,\"#bd3786\"],[0.5555555555555556,\"#d8576b\"],[0.6666666666666666,\"#ed7953\"],[0.7777777777777778,\"#fb9f3a\"],[0.8888888888888888,\"#fdca26\"],[1.0,\"#f0f921\"]],\"type\":\"contour\"}],\"contourcarpet\":[{\"colorbar\":{\"outlinewidth\":0,\"ticks\":\"\"},\"type\":\"contourcarpet\"}],\"heatmap\":[{\"colorbar\":{\"outlinewidth\":0,\"ticks\":\"\"},\"colorscale\":[[0.0,\"#0d0887\"],[0.1111111111111111,\"#46039f\"],[0.2222222222222222,\"#7201a8\"],[0.3333333333333333,\"#9c179e\"],[0.4444444444444444,\"#bd3786\"],[0.5555555555555556,\"#d8576b\"],[0.6666666666666666,\"#ed7953\"],[0.7777777777777778,\"#fb9f3a\"],[0.8888888888888888,\"#fdca26\"],[1.0,\"#f0f921\"]],\"type\":\"heatmap\"}],\"heatmapgl\":[{\"colorbar\":{\"outlinewidth\":0,\"ticks\":\"\"},\"colorscale\":[[0.0,\"#0d0887\"],[0.1111111111111111,\"#46039f\"],[0.2222222222222222,\"#7201a8\"],[0.3333333333333333,\"#9c179e\"],[0.4444444444444444,\"#bd3786\"],[0.5555555555555556,\"#d8576b\"],[0.6666666666666666,\"#ed7953\"],[0.7777777777777778,\"#fb9f3a\"],[0.8888888888888888,\"#fdca26\"],[1.0,\"#f0f921\"]],\"type\":\"heatmapgl\"}],\"histogram\":[{\"marker\":{\"pattern\":{\"fillmode\":\"overlay\",\"size\":10,\"solidity\":0.2}},\"type\":\"histogram\"}],\"histogram2d\":[{\"colorbar\":{\"outlinewidth\":0,\"ticks\":\"\"},\"colorscale\":[[0.0,\"#0d0887\"],[0.1111111111111111,\"#46039f\"],[0.2222222222222222,\"#7201a8\"],[0.3333333333333333,\"#9c179e\"],[0.4444444444444444,\"#bd3786\"],[0.5555555555555556,\"#d8576b\"],[0.6666666666666666,\"#ed7953\"],[0.7777777777777778,\"#fb9f3a\"],[0.8888888888888888,\"#fdca26\"],[1.0,\"#f0f921\"]],\"type\":\"histogram2d\"}],\"histogram2dcontour\":[{\"colorbar\":{\"outlinewidth\":0,\"ticks\":\"\"},\"colorscale\":[[0.0,\"#0d0887\"],[0.1111111111111111,\"#46039f\"],[0.2222222222222222,\"#7201a8\"],[0.3333333333333333,\"#9c179e\"],[0.4444444444444444,\"#bd3786\"],[0.5555555555555556,\"#d8576b\"],[0.6666666666666666,\"#ed7953\"],[0.7777777777777778,\"#fb9f3a\"],[0.8888888888888888,\"#fdca26\"],[1.0,\"#f0f921\"]],\"type\":\"histogram2dcontour\"}],\"mesh3d\":[{\"colorbar\":{\"outlinewidth\":0,\"ticks\":\"\"},\"type\":\"mesh3d\"}],\"parcoords\":[{\"line\":{\"colorbar\":{\"outlinewidth\":0,\"ticks\":\"\"}},\"type\":\"parcoords\"}],\"pie\":[{\"automargin\":true,\"type\":\"pie\"}],\"scatter\":[{\"marker\":{\"colorbar\":{\"outlinewidth\":0,\"ticks\":\"\"}},\"type\":\"scatter\"}],\"scatter3d\":[{\"line\":{\"colorbar\":{\"outlinewidth\":0,\"ticks\":\"\"}},\"marker\":{\"colorbar\":{\"outlinewidth\":0,\"ticks\":\"\"}},\"type\":\"scatter3d\"}],\"scattercarpet\":[{\"marker\":{\"colorbar\":{\"outlinewidth\":0,\"ticks\":\"\"}},\"type\":\"scattercarpet\"}],\"scattergeo\":[{\"marker\":{\"colorbar\":{\"outlinewidth\":0,\"ticks\":\"\"}},\"type\":\"scattergeo\"}],\"scattergl\":[{\"marker\":{\"colorbar\":{\"outlinewidth\":0,\"ticks\":\"\"}},\"type\":\"scattergl\"}],\"scattermapbox\":[{\"marker\":{\"colorbar\":{\"outlinewidth\":0,\"ticks\":\"\"}},\"type\":\"scattermapbox\"}],\"scatterpolar\":[{\"marker\":{\"colorbar\":{\"outlinewidth\":0,\"ticks\":\"\"}},\"type\":\"scatterpolar\"}],\"scatterpolargl\":[{\"marker\":{\"colorbar\":{\"outlinewidth\":0,\"ticks\":\"\"}},\"type\":\"scatterpolargl\"}],\"scatterternary\":[{\"marker\":{\"colorbar\":{\"outlinewidth\":0,\"ticks\":\"\"}},\"type\":\"scatterternary\"}],\"surface\":[{\"colorbar\":{\"outlinewidth\":0,\"ticks\":\"\"},\"colorscale\":[[0.0,\"#0d0887\"],[0.1111111111111111,\"#46039f\"],[0.2222222222222222,\"#7201a8\"],[0.3333333333333333,\"#9c179e\"],[0.4444444444444444,\"#bd3786\"],[0.5555555555555556,\"#d8576b\"],[0.6666666666666666,\"#ed7953\"],[0.7777777777777778,\"#fb9f3a\"],[0.8888888888888888,\"#fdca26\"],[1.0,\"#f0f921\"]],\"type\":\"surface\"}],\"table\":[{\"cells\":{\"fill\":{\"color\":\"#EBF0F8\"},\"line\":{\"color\":\"white\"}},\"header\":{\"fill\":{\"color\":\"#C8D4E3\"},\"line\":{\"color\":\"white\"}},\"type\":\"table\"}]},\"layout\":{\"annotationdefaults\":{\"arrowcolor\":\"#2a3f5f\",\"arrowhead\":0,\"arrowwidth\":1},\"autotypenumbers\":\"strict\",\"coloraxis\":{\"colorbar\":{\"outlinewidth\":0,\"ticks\":\"\"}},\"colorscale\":{\"diverging\":[[0,\"#8e0152\"],[0.1,\"#c51b7d\"],[0.2,\"#de77ae\"],[0.3,\"#f1b6da\"],[0.4,\"#fde0ef\"],[0.5,\"#f7f7f7\"],[0.6,\"#e6f5d0\"],[0.7,\"#b8e186\"],[0.8,\"#7fbc41\"],[0.9,\"#4d9221\"],[1,\"#276419\"]],\"sequential\":[[0.0,\"#0d0887\"],[0.1111111111111111,\"#46039f\"],[0.2222222222222222,\"#7201a8\"],[0.3333333333333333,\"#9c179e\"],[0.4444444444444444,\"#bd3786\"],[0.5555555555555556,\"#d8576b\"],[0.6666666666666666,\"#ed7953\"],[0.7777777777777778,\"#fb9f3a\"],[0.8888888888888888,\"#fdca26\"],[1.0,\"#f0f921\"]],\"sequentialminus\":[[0.0,\"#0d0887\"],[0.1111111111111111,\"#46039f\"],[0.2222222222222222,\"#7201a8\"],[0.3333333333333333,\"#9c179e\"],[0.4444444444444444,\"#bd3786\"],[0.5555555555555556,\"#d8576b\"],[0.6666666666666666,\"#ed7953\"],[0.7777777777777778,\"#fb9f3a\"],[0.8888888888888888,\"#fdca26\"],[1.0,\"#f0f921\"]]},\"colorway\":[\"#636efa\",\"#EF553B\",\"#00cc96\",\"#ab63fa\",\"#FFA15A\",\"#19d3f3\",\"#FF6692\",\"#B6E880\",\"#FF97FF\",\"#FECB52\"],\"font\":{\"color\":\"#2a3f5f\"},\"geo\":{\"bgcolor\":\"white\",\"lakecolor\":\"white\",\"landcolor\":\"#E5ECF6\",\"showlakes\":true,\"showland\":true,\"subunitcolor\":\"white\"},\"hoverlabel\":{\"align\":\"left\"},\"hovermode\":\"closest\",\"mapbox\":{\"style\":\"light\"},\"paper_bgcolor\":\"white\",\"plot_bgcolor\":\"#E5ECF6\",\"polar\":{\"angularaxis\":{\"gridcolor\":\"white\",\"linecolor\":\"white\",\"ticks\":\"\"},\"bgcolor\":\"#E5ECF6\",\"radialaxis\":{\"gridcolor\":\"white\",\"linecolor\":\"white\",\"ticks\":\"\"}},\"scene\":{\"xaxis\":{\"backgroundcolor\":\"#E5ECF6\",\"gridcolor\":\"white\",\"gridwidth\":2,\"linecolor\":\"white\",\"showbackground\":true,\"ticks\":\"\",\"zerolinecolor\":\"white\"},\"yaxis\":{\"backgroundcolor\":\"#E5ECF6\",\"gridcolor\":\"white\",\"gridwidth\":2,\"linecolor\":\"white\",\"showbackground\":true,\"ticks\":\"\",\"zerolinecolor\":\"white\"},\"zaxis\":{\"backgroundcolor\":\"#E5ECF6\",\"gridcolor\":\"white\",\"gridwidth\":2,\"linecolor\":\"white\",\"showbackground\":true,\"ticks\":\"\",\"zerolinecolor\":\"white\"}},\"shapedefaults\":{\"line\":{\"color\":\"#2a3f5f\"}},\"ternary\":{\"aaxis\":{\"gridcolor\":\"white\",\"linecolor\":\"white\",\"ticks\":\"\"},\"baxis\":{\"gridcolor\":\"white\",\"linecolor\":\"white\",\"ticks\":\"\"},\"bgcolor\":\"#E5ECF6\",\"caxis\":{\"gridcolor\":\"white\",\"linecolor\":\"white\",\"ticks\":\"\"}},\"title\":{\"x\":0.05},\"xaxis\":{\"automargin\":true,\"gridcolor\":\"white\",\"linecolor\":\"white\",\"ticks\":\"\",\"title\":{\"standoff\":15},\"zerolinecolor\":\"white\",\"zerolinewidth\":2},\"yaxis\":{\"automargin\":true,\"gridcolor\":\"white\",\"linecolor\":\"white\",\"ticks\":\"\",\"title\":{\"standoff\":15},\"zerolinecolor\":\"white\",\"zerolinewidth\":2}}},\"xaxis\":{\"anchor\":\"y\",\"domain\":[0.0,1.0],\"title\":{\"text\":\"col1\"}},\"yaxis\":{\"anchor\":\"x\",\"domain\":[0.0,1.0],\"title\":{\"text\":\"col2\"}},\"legend\":{\"title\":{\"text\":\"0\"},\"tracegroupgap\":0},\"margin\":{\"t\":60}},                        {\"responsive\": true}                    ).then(function(){\n",
       "                            \n",
       "var gd = document.getElementById('e25cb626-0b17-4348-8ebe-178a76b9032f');\n",
       "var x = new MutationObserver(function (mutations, observer) {{\n",
       "        var display = window.getComputedStyle(gd).display;\n",
       "        if (!display || display === 'none') {{\n",
       "            console.log([gd, 'removed!']);\n",
       "            Plotly.purge(gd);\n",
       "            observer.disconnect();\n",
       "        }}\n",
       "}});\n",
       "\n",
       "// Listen for the removal of the full notebook cells\n",
       "var notebookContainer = gd.closest('#notebook-container');\n",
       "if (notebookContainer) {{\n",
       "    x.observe(notebookContainer, {childList: true});\n",
       "}}\n",
       "\n",
       "// Listen for the clearing of the current output cell\n",
       "var outputEl = gd.closest('.output');\n",
       "if (outputEl) {{\n",
       "    x.observe(outputEl, {childList: true});\n",
       "}}\n",
       "\n",
       "                        })                };                });            </script>        </div>"
      ]
     },
     "metadata": {},
     "output_type": "display_data"
    }
   ],
   "source": [
    "import plotly.express as px\n",
    "fig = px.line(ddf, x=\"col1\", y=\"col2\", color=0,hover_data=[1])\n",
    "fig.update_traces(mode=\"markers\")\n",
    "# fig.write_html(\"tsne.html\")\n",
    "fig.show()\n"
   ]
  },
  {
   "cell_type": "code",
   "execution_count": 69,
   "metadata": {},
   "outputs": [
    {
     "data": {
      "application/vnd.plotly.v1+json": {
       "config": {
        "plotlyServerURL": "https://plot.ly"
       },
       "data": [
        {
         "legendgroup": "Australia",
         "line": {
          "color": "#636efa",
          "dash": "solid"
         },
         "marker": {
          "symbol": "circle"
         },
         "mode": "markers+lines",
         "name": "Australia",
         "orientation": "v",
         "showlegend": true,
         "type": "scatter",
         "x": [
          1952,
          1957,
          1962,
          1967,
          1972,
          1977,
          1982,
          1987,
          1992,
          1997,
          2002,
          2007
         ],
         "xaxis": "x",
         "y": [
          69.12,
          70.33,
          70.93,
          71.1,
          71.93,
          73.49,
          74.74,
          76.32,
          77.56,
          78.83,
          80.37,
          81.235
         ],
         "yaxis": "y"
        },
        {
         "legendgroup": "New Zealand",
         "line": {
          "color": "#EF553B",
          "dash": "solid"
         },
         "marker": {
          "symbol": "circle"
         },
         "mode": "markers+lines",
         "name": "New Zealand",
         "orientation": "v",
         "showlegend": true,
         "type": "scatter",
         "x": [
          1952,
          1957,
          1962,
          1967,
          1972,
          1977,
          1982,
          1987,
          1992,
          1997,
          2002,
          2007
         ],
         "xaxis": "x",
         "y": [
          69.39,
          70.26,
          71.24,
          71.52,
          71.89,
          72.22,
          73.84,
          74.32,
          76.33,
          77.55,
          79.11,
          80.204
         ],
         "yaxis": "y"
        }
       ],
       "layout": {
        "autosize": true,
        "hovermode": "x unified",
        "legend": {
         "title": {
          "text": "country"
         },
         "tracegroupgap": 0
        },
        "template": {
         "data": {
          "bar": [
           {
            "error_x": {
             "color": "#2a3f5f"
            },
            "error_y": {
             "color": "#2a3f5f"
            },
            "marker": {
             "line": {
              "color": "#E5ECF6",
              "width": 0.5
             },
             "pattern": {
              "fillmode": "overlay",
              "size": 10,
              "solidity": 0.2
             }
            },
            "type": "bar"
           }
          ],
          "barpolar": [
           {
            "marker": {
             "line": {
              "color": "#E5ECF6",
              "width": 0.5
             },
             "pattern": {
              "fillmode": "overlay",
              "size": 10,
              "solidity": 0.2
             }
            },
            "type": "barpolar"
           }
          ],
          "carpet": [
           {
            "aaxis": {
             "endlinecolor": "#2a3f5f",
             "gridcolor": "white",
             "linecolor": "white",
             "minorgridcolor": "white",
             "startlinecolor": "#2a3f5f"
            },
            "baxis": {
             "endlinecolor": "#2a3f5f",
             "gridcolor": "white",
             "linecolor": "white",
             "minorgridcolor": "white",
             "startlinecolor": "#2a3f5f"
            },
            "type": "carpet"
           }
          ],
          "choropleth": [
           {
            "colorbar": {
             "outlinewidth": 0,
             "ticks": ""
            },
            "type": "choropleth"
           }
          ],
          "contour": [
           {
            "colorbar": {
             "outlinewidth": 0,
             "ticks": ""
            },
            "colorscale": [
             [
              0,
              "#0d0887"
             ],
             [
              0.1111111111111111,
              "#46039f"
             ],
             [
              0.2222222222222222,
              "#7201a8"
             ],
             [
              0.3333333333333333,
              "#9c179e"
             ],
             [
              0.4444444444444444,
              "#bd3786"
             ],
             [
              0.5555555555555556,
              "#d8576b"
             ],
             [
              0.6666666666666666,
              "#ed7953"
             ],
             [
              0.7777777777777778,
              "#fb9f3a"
             ],
             [
              0.8888888888888888,
              "#fdca26"
             ],
             [
              1,
              "#f0f921"
             ]
            ],
            "type": "contour"
           }
          ],
          "contourcarpet": [
           {
            "colorbar": {
             "outlinewidth": 0,
             "ticks": ""
            },
            "type": "contourcarpet"
           }
          ],
          "heatmap": [
           {
            "colorbar": {
             "outlinewidth": 0,
             "ticks": ""
            },
            "colorscale": [
             [
              0,
              "#0d0887"
             ],
             [
              0.1111111111111111,
              "#46039f"
             ],
             [
              0.2222222222222222,
              "#7201a8"
             ],
             [
              0.3333333333333333,
              "#9c179e"
             ],
             [
              0.4444444444444444,
              "#bd3786"
             ],
             [
              0.5555555555555556,
              "#d8576b"
             ],
             [
              0.6666666666666666,
              "#ed7953"
             ],
             [
              0.7777777777777778,
              "#fb9f3a"
             ],
             [
              0.8888888888888888,
              "#fdca26"
             ],
             [
              1,
              "#f0f921"
             ]
            ],
            "type": "heatmap"
           }
          ],
          "heatmapgl": [
           {
            "colorbar": {
             "outlinewidth": 0,
             "ticks": ""
            },
            "colorscale": [
             [
              0,
              "#0d0887"
             ],
             [
              0.1111111111111111,
              "#46039f"
             ],
             [
              0.2222222222222222,
              "#7201a8"
             ],
             [
              0.3333333333333333,
              "#9c179e"
             ],
             [
              0.4444444444444444,
              "#bd3786"
             ],
             [
              0.5555555555555556,
              "#d8576b"
             ],
             [
              0.6666666666666666,
              "#ed7953"
             ],
             [
              0.7777777777777778,
              "#fb9f3a"
             ],
             [
              0.8888888888888888,
              "#fdca26"
             ],
             [
              1,
              "#f0f921"
             ]
            ],
            "type": "heatmapgl"
           }
          ],
          "histogram": [
           {
            "marker": {
             "pattern": {
              "fillmode": "overlay",
              "size": 10,
              "solidity": 0.2
             }
            },
            "type": "histogram"
           }
          ],
          "histogram2d": [
           {
            "colorbar": {
             "outlinewidth": 0,
             "ticks": ""
            },
            "colorscale": [
             [
              0,
              "#0d0887"
             ],
             [
              0.1111111111111111,
              "#46039f"
             ],
             [
              0.2222222222222222,
              "#7201a8"
             ],
             [
              0.3333333333333333,
              "#9c179e"
             ],
             [
              0.4444444444444444,
              "#bd3786"
             ],
             [
              0.5555555555555556,
              "#d8576b"
             ],
             [
              0.6666666666666666,
              "#ed7953"
             ],
             [
              0.7777777777777778,
              "#fb9f3a"
             ],
             [
              0.8888888888888888,
              "#fdca26"
             ],
             [
              1,
              "#f0f921"
             ]
            ],
            "type": "histogram2d"
           }
          ],
          "histogram2dcontour": [
           {
            "colorbar": {
             "outlinewidth": 0,
             "ticks": ""
            },
            "colorscale": [
             [
              0,
              "#0d0887"
             ],
             [
              0.1111111111111111,
              "#46039f"
             ],
             [
              0.2222222222222222,
              "#7201a8"
             ],
             [
              0.3333333333333333,
              "#9c179e"
             ],
             [
              0.4444444444444444,
              "#bd3786"
             ],
             [
              0.5555555555555556,
              "#d8576b"
             ],
             [
              0.6666666666666666,
              "#ed7953"
             ],
             [
              0.7777777777777778,
              "#fb9f3a"
             ],
             [
              0.8888888888888888,
              "#fdca26"
             ],
             [
              1,
              "#f0f921"
             ]
            ],
            "type": "histogram2dcontour"
           }
          ],
          "mesh3d": [
           {
            "colorbar": {
             "outlinewidth": 0,
             "ticks": ""
            },
            "type": "mesh3d"
           }
          ],
          "parcoords": [
           {
            "line": {
             "colorbar": {
              "outlinewidth": 0,
              "ticks": ""
             }
            },
            "type": "parcoords"
           }
          ],
          "pie": [
           {
            "automargin": true,
            "type": "pie"
           }
          ],
          "scatter": [
           {
            "marker": {
             "colorbar": {
              "outlinewidth": 0,
              "ticks": ""
             }
            },
            "type": "scatter"
           }
          ],
          "scatter3d": [
           {
            "line": {
             "colorbar": {
              "outlinewidth": 0,
              "ticks": ""
             }
            },
            "marker": {
             "colorbar": {
              "outlinewidth": 0,
              "ticks": ""
             }
            },
            "type": "scatter3d"
           }
          ],
          "scattercarpet": [
           {
            "marker": {
             "colorbar": {
              "outlinewidth": 0,
              "ticks": ""
             }
            },
            "type": "scattercarpet"
           }
          ],
          "scattergeo": [
           {
            "marker": {
             "colorbar": {
              "outlinewidth": 0,
              "ticks": ""
             }
            },
            "type": "scattergeo"
           }
          ],
          "scattergl": [
           {
            "marker": {
             "colorbar": {
              "outlinewidth": 0,
              "ticks": ""
             }
            },
            "type": "scattergl"
           }
          ],
          "scattermapbox": [
           {
            "marker": {
             "colorbar": {
              "outlinewidth": 0,
              "ticks": ""
             }
            },
            "type": "scattermapbox"
           }
          ],
          "scatterpolar": [
           {
            "marker": {
             "colorbar": {
              "outlinewidth": 0,
              "ticks": ""
             }
            },
            "type": "scatterpolar"
           }
          ],
          "scatterpolargl": [
           {
            "marker": {
             "colorbar": {
              "outlinewidth": 0,
              "ticks": ""
             }
            },
            "type": "scatterpolargl"
           }
          ],
          "scatterternary": [
           {
            "marker": {
             "colorbar": {
              "outlinewidth": 0,
              "ticks": ""
             }
            },
            "type": "scatterternary"
           }
          ],
          "surface": [
           {
            "colorbar": {
             "outlinewidth": 0,
             "ticks": ""
            },
            "colorscale": [
             [
              0,
              "#0d0887"
             ],
             [
              0.1111111111111111,
              "#46039f"
             ],
             [
              0.2222222222222222,
              "#7201a8"
             ],
             [
              0.3333333333333333,
              "#9c179e"
             ],
             [
              0.4444444444444444,
              "#bd3786"
             ],
             [
              0.5555555555555556,
              "#d8576b"
             ],
             [
              0.6666666666666666,
              "#ed7953"
             ],
             [
              0.7777777777777778,
              "#fb9f3a"
             ],
             [
              0.8888888888888888,
              "#fdca26"
             ],
             [
              1,
              "#f0f921"
             ]
            ],
            "type": "surface"
           }
          ],
          "table": [
           {
            "cells": {
             "fill": {
              "color": "#EBF0F8"
             },
             "line": {
              "color": "white"
             }
            },
            "header": {
             "fill": {
              "color": "#C8D4E3"
             },
             "line": {
              "color": "white"
             }
            },
            "type": "table"
           }
          ]
         },
         "layout": {
          "annotationdefaults": {
           "arrowcolor": "#2a3f5f",
           "arrowhead": 0,
           "arrowwidth": 1
          },
          "autotypenumbers": "strict",
          "coloraxis": {
           "colorbar": {
            "outlinewidth": 0,
            "ticks": ""
           }
          },
          "colorscale": {
           "diverging": [
            [
             0,
             "#8e0152"
            ],
            [
             0.1,
             "#c51b7d"
            ],
            [
             0.2,
             "#de77ae"
            ],
            [
             0.3,
             "#f1b6da"
            ],
            [
             0.4,
             "#fde0ef"
            ],
            [
             0.5,
             "#f7f7f7"
            ],
            [
             0.6,
             "#e6f5d0"
            ],
            [
             0.7,
             "#b8e186"
            ],
            [
             0.8,
             "#7fbc41"
            ],
            [
             0.9,
             "#4d9221"
            ],
            [
             1,
             "#276419"
            ]
           ],
           "sequential": [
            [
             0,
             "#0d0887"
            ],
            [
             0.1111111111111111,
             "#46039f"
            ],
            [
             0.2222222222222222,
             "#7201a8"
            ],
            [
             0.3333333333333333,
             "#9c179e"
            ],
            [
             0.4444444444444444,
             "#bd3786"
            ],
            [
             0.5555555555555556,
             "#d8576b"
            ],
            [
             0.6666666666666666,
             "#ed7953"
            ],
            [
             0.7777777777777778,
             "#fb9f3a"
            ],
            [
             0.8888888888888888,
             "#fdca26"
            ],
            [
             1,
             "#f0f921"
            ]
           ],
           "sequentialminus": [
            [
             0,
             "#0d0887"
            ],
            [
             0.1111111111111111,
             "#46039f"
            ],
            [
             0.2222222222222222,
             "#7201a8"
            ],
            [
             0.3333333333333333,
             "#9c179e"
            ],
            [
             0.4444444444444444,
             "#bd3786"
            ],
            [
             0.5555555555555556,
             "#d8576b"
            ],
            [
             0.6666666666666666,
             "#ed7953"
            ],
            [
             0.7777777777777778,
             "#fb9f3a"
            ],
            [
             0.8888888888888888,
             "#fdca26"
            ],
            [
             1,
             "#f0f921"
            ]
           ]
          },
          "colorway": [
           "#636efa",
           "#EF553B",
           "#00cc96",
           "#ab63fa",
           "#FFA15A",
           "#19d3f3",
           "#FF6692",
           "#B6E880",
           "#FF97FF",
           "#FECB52"
          ],
          "font": {
           "color": "#2a3f5f"
          },
          "geo": {
           "bgcolor": "white",
           "lakecolor": "white",
           "landcolor": "#E5ECF6",
           "showlakes": true,
           "showland": true,
           "subunitcolor": "white"
          },
          "hoverlabel": {
           "align": "left"
          },
          "hovermode": "closest",
          "mapbox": {
           "style": "light"
          },
          "paper_bgcolor": "white",
          "plot_bgcolor": "#E5ECF6",
          "polar": {
           "angularaxis": {
            "gridcolor": "white",
            "linecolor": "white",
            "ticks": ""
           },
           "bgcolor": "#E5ECF6",
           "radialaxis": {
            "gridcolor": "white",
            "linecolor": "white",
            "ticks": ""
           }
          },
          "scene": {
           "xaxis": {
            "backgroundcolor": "#E5ECF6",
            "gridcolor": "white",
            "gridwidth": 2,
            "linecolor": "white",
            "showbackground": true,
            "ticks": "",
            "zerolinecolor": "white"
           },
           "yaxis": {
            "backgroundcolor": "#E5ECF6",
            "gridcolor": "white",
            "gridwidth": 2,
            "linecolor": "white",
            "showbackground": true,
            "ticks": "",
            "zerolinecolor": "white"
           },
           "zaxis": {
            "backgroundcolor": "#E5ECF6",
            "gridcolor": "white",
            "gridwidth": 2,
            "linecolor": "white",
            "showbackground": true,
            "ticks": "",
            "zerolinecolor": "white"
           }
          },
          "shapedefaults": {
           "line": {
            "color": "#2a3f5f"
           }
          },
          "ternary": {
           "aaxis": {
            "gridcolor": "white",
            "linecolor": "white",
            "ticks": ""
           },
           "baxis": {
            "gridcolor": "white",
            "linecolor": "white",
            "ticks": ""
           },
           "bgcolor": "#E5ECF6",
           "caxis": {
            "gridcolor": "white",
            "linecolor": "white",
            "ticks": ""
           }
          },
          "title": {
           "x": 0.05
          },
          "xaxis": {
           "automargin": true,
           "gridcolor": "white",
           "linecolor": "white",
           "ticks": "",
           "title": {
            "standoff": 15
           },
           "zerolinecolor": "white",
           "zerolinewidth": 2
          },
          "yaxis": {
           "automargin": true,
           "gridcolor": "white",
           "linecolor": "white",
           "ticks": "",
           "title": {
            "standoff": 15
           },
           "zerolinecolor": "white",
           "zerolinewidth": 2
          }
         }
        },
        "title": {
         "text": "layout.hovermode='x unified'"
        },
        "xaxis": {
         "anchor": "y",
         "autorange": true,
         "domain": [
          0,
          1
         ],
         "range": [
          1948.6186922530205,
          2010.3813077469795
         ],
         "title": {
          "text": "year"
         },
         "type": "linear"
        },
        "yaxis": {
         "anchor": "x",
         "autorange": true,
         "domain": [
          0,
          1
         ],
         "range": [
          68.23259554140128,
          82.12240445859872
         ],
         "title": {
          "text": "lifeExp"
         },
         "type": "linear"
        }
       }
      },
      "text/html": [
       "<div>                            <div id=\"85ab4b7e-13e6-42f3-8562-3cdf157a3acd\" class=\"plotly-graph-div\" style=\"height:525px; width:100%;\"></div>            <script type=\"text/javascript\">                require([\"plotly\"], function(Plotly) {                    window.PLOTLYENV=window.PLOTLYENV || {};                                    if (document.getElementById(\"85ab4b7e-13e6-42f3-8562-3cdf157a3acd\")) {                    Plotly.newPlot(                        \"85ab4b7e-13e6-42f3-8562-3cdf157a3acd\",                        [{\"legendgroup\":\"Australia\",\"line\":{\"color\":\"#636efa\",\"dash\":\"solid\"},\"marker\":{\"symbol\":\"circle\"},\"mode\":\"markers+lines\",\"name\":\"Australia\",\"orientation\":\"v\",\"showlegend\":true,\"x\":[1952,1957,1962,1967,1972,1977,1982,1987,1992,1997,2002,2007],\"xaxis\":\"x\",\"y\":[69.12,70.33,70.93,71.1,71.93,73.49,74.74,76.32,77.56,78.83,80.37,81.235],\"yaxis\":\"y\",\"type\":\"scatter\"},{\"legendgroup\":\"New Zealand\",\"line\":{\"color\":\"#EF553B\",\"dash\":\"solid\"},\"marker\":{\"symbol\":\"circle\"},\"mode\":\"markers+lines\",\"name\":\"New Zealand\",\"orientation\":\"v\",\"showlegend\":true,\"x\":[1952,1957,1962,1967,1972,1977,1982,1987,1992,1997,2002,2007],\"xaxis\":\"x\",\"y\":[69.39,70.26,71.24,71.52,71.89,72.22,73.84,74.32,76.33,77.55,79.11,80.204],\"yaxis\":\"y\",\"type\":\"scatter\"}],                        {\"template\":{\"data\":{\"bar\":[{\"error_x\":{\"color\":\"#2a3f5f\"},\"error_y\":{\"color\":\"#2a3f5f\"},\"marker\":{\"line\":{\"color\":\"#E5ECF6\",\"width\":0.5},\"pattern\":{\"fillmode\":\"overlay\",\"size\":10,\"solidity\":0.2}},\"type\":\"bar\"}],\"barpolar\":[{\"marker\":{\"line\":{\"color\":\"#E5ECF6\",\"width\":0.5},\"pattern\":{\"fillmode\":\"overlay\",\"size\":10,\"solidity\":0.2}},\"type\":\"barpolar\"}],\"carpet\":[{\"aaxis\":{\"endlinecolor\":\"#2a3f5f\",\"gridcolor\":\"white\",\"linecolor\":\"white\",\"minorgridcolor\":\"white\",\"startlinecolor\":\"#2a3f5f\"},\"baxis\":{\"endlinecolor\":\"#2a3f5f\",\"gridcolor\":\"white\",\"linecolor\":\"white\",\"minorgridcolor\":\"white\",\"startlinecolor\":\"#2a3f5f\"},\"type\":\"carpet\"}],\"choropleth\":[{\"colorbar\":{\"outlinewidth\":0,\"ticks\":\"\"},\"type\":\"choropleth\"}],\"contour\":[{\"colorbar\":{\"outlinewidth\":0,\"ticks\":\"\"},\"colorscale\":[[0.0,\"#0d0887\"],[0.1111111111111111,\"#46039f\"],[0.2222222222222222,\"#7201a8\"],[0.3333333333333333,\"#9c179e\"],[0.4444444444444444,\"#bd3786\"],[0.5555555555555556,\"#d8576b\"],[0.6666666666666666,\"#ed7953\"],[0.7777777777777778,\"#fb9f3a\"],[0.8888888888888888,\"#fdca26\"],[1.0,\"#f0f921\"]],\"type\":\"contour\"}],\"contourcarpet\":[{\"colorbar\":{\"outlinewidth\":0,\"ticks\":\"\"},\"type\":\"contourcarpet\"}],\"heatmap\":[{\"colorbar\":{\"outlinewidth\":0,\"ticks\":\"\"},\"colorscale\":[[0.0,\"#0d0887\"],[0.1111111111111111,\"#46039f\"],[0.2222222222222222,\"#7201a8\"],[0.3333333333333333,\"#9c179e\"],[0.4444444444444444,\"#bd3786\"],[0.5555555555555556,\"#d8576b\"],[0.6666666666666666,\"#ed7953\"],[0.7777777777777778,\"#fb9f3a\"],[0.8888888888888888,\"#fdca26\"],[1.0,\"#f0f921\"]],\"type\":\"heatmap\"}],\"heatmapgl\":[{\"colorbar\":{\"outlinewidth\":0,\"ticks\":\"\"},\"colorscale\":[[0.0,\"#0d0887\"],[0.1111111111111111,\"#46039f\"],[0.2222222222222222,\"#7201a8\"],[0.3333333333333333,\"#9c179e\"],[0.4444444444444444,\"#bd3786\"],[0.5555555555555556,\"#d8576b\"],[0.6666666666666666,\"#ed7953\"],[0.7777777777777778,\"#fb9f3a\"],[0.8888888888888888,\"#fdca26\"],[1.0,\"#f0f921\"]],\"type\":\"heatmapgl\"}],\"histogram\":[{\"marker\":{\"pattern\":{\"fillmode\":\"overlay\",\"size\":10,\"solidity\":0.2}},\"type\":\"histogram\"}],\"histogram2d\":[{\"colorbar\":{\"outlinewidth\":0,\"ticks\":\"\"},\"colorscale\":[[0.0,\"#0d0887\"],[0.1111111111111111,\"#46039f\"],[0.2222222222222222,\"#7201a8\"],[0.3333333333333333,\"#9c179e\"],[0.4444444444444444,\"#bd3786\"],[0.5555555555555556,\"#d8576b\"],[0.6666666666666666,\"#ed7953\"],[0.7777777777777778,\"#fb9f3a\"],[0.8888888888888888,\"#fdca26\"],[1.0,\"#f0f921\"]],\"type\":\"histogram2d\"}],\"histogram2dcontour\":[{\"colorbar\":{\"outlinewidth\":0,\"ticks\":\"\"},\"colorscale\":[[0.0,\"#0d0887\"],[0.1111111111111111,\"#46039f\"],[0.2222222222222222,\"#7201a8\"],[0.3333333333333333,\"#9c179e\"],[0.4444444444444444,\"#bd3786\"],[0.5555555555555556,\"#d8576b\"],[0.6666666666666666,\"#ed7953\"],[0.7777777777777778,\"#fb9f3a\"],[0.8888888888888888,\"#fdca26\"],[1.0,\"#f0f921\"]],\"type\":\"histogram2dcontour\"}],\"mesh3d\":[{\"colorbar\":{\"outlinewidth\":0,\"ticks\":\"\"},\"type\":\"mesh3d\"}],\"parcoords\":[{\"line\":{\"colorbar\":{\"outlinewidth\":0,\"ticks\":\"\"}},\"type\":\"parcoords\"}],\"pie\":[{\"automargin\":true,\"type\":\"pie\"}],\"scatter\":[{\"marker\":{\"colorbar\":{\"outlinewidth\":0,\"ticks\":\"\"}},\"type\":\"scatter\"}],\"scatter3d\":[{\"line\":{\"colorbar\":{\"outlinewidth\":0,\"ticks\":\"\"}},\"marker\":{\"colorbar\":{\"outlinewidth\":0,\"ticks\":\"\"}},\"type\":\"scatter3d\"}],\"scattercarpet\":[{\"marker\":{\"colorbar\":{\"outlinewidth\":0,\"ticks\":\"\"}},\"type\":\"scattercarpet\"}],\"scattergeo\":[{\"marker\":{\"colorbar\":{\"outlinewidth\":0,\"ticks\":\"\"}},\"type\":\"scattergeo\"}],\"scattergl\":[{\"marker\":{\"colorbar\":{\"outlinewidth\":0,\"ticks\":\"\"}},\"type\":\"scattergl\"}],\"scattermapbox\":[{\"marker\":{\"colorbar\":{\"outlinewidth\":0,\"ticks\":\"\"}},\"type\":\"scattermapbox\"}],\"scatterpolar\":[{\"marker\":{\"colorbar\":{\"outlinewidth\":0,\"ticks\":\"\"}},\"type\":\"scatterpolar\"}],\"scatterpolargl\":[{\"marker\":{\"colorbar\":{\"outlinewidth\":0,\"ticks\":\"\"}},\"type\":\"scatterpolargl\"}],\"scatterternary\":[{\"marker\":{\"colorbar\":{\"outlinewidth\":0,\"ticks\":\"\"}},\"type\":\"scatterternary\"}],\"surface\":[{\"colorbar\":{\"outlinewidth\":0,\"ticks\":\"\"},\"colorscale\":[[0.0,\"#0d0887\"],[0.1111111111111111,\"#46039f\"],[0.2222222222222222,\"#7201a8\"],[0.3333333333333333,\"#9c179e\"],[0.4444444444444444,\"#bd3786\"],[0.5555555555555556,\"#d8576b\"],[0.6666666666666666,\"#ed7953\"],[0.7777777777777778,\"#fb9f3a\"],[0.8888888888888888,\"#fdca26\"],[1.0,\"#f0f921\"]],\"type\":\"surface\"}],\"table\":[{\"cells\":{\"fill\":{\"color\":\"#EBF0F8\"},\"line\":{\"color\":\"white\"}},\"header\":{\"fill\":{\"color\":\"#C8D4E3\"},\"line\":{\"color\":\"white\"}},\"type\":\"table\"}]},\"layout\":{\"annotationdefaults\":{\"arrowcolor\":\"#2a3f5f\",\"arrowhead\":0,\"arrowwidth\":1},\"autotypenumbers\":\"strict\",\"coloraxis\":{\"colorbar\":{\"outlinewidth\":0,\"ticks\":\"\"}},\"colorscale\":{\"diverging\":[[0,\"#8e0152\"],[0.1,\"#c51b7d\"],[0.2,\"#de77ae\"],[0.3,\"#f1b6da\"],[0.4,\"#fde0ef\"],[0.5,\"#f7f7f7\"],[0.6,\"#e6f5d0\"],[0.7,\"#b8e186\"],[0.8,\"#7fbc41\"],[0.9,\"#4d9221\"],[1,\"#276419\"]],\"sequential\":[[0.0,\"#0d0887\"],[0.1111111111111111,\"#46039f\"],[0.2222222222222222,\"#7201a8\"],[0.3333333333333333,\"#9c179e\"],[0.4444444444444444,\"#bd3786\"],[0.5555555555555556,\"#d8576b\"],[0.6666666666666666,\"#ed7953\"],[0.7777777777777778,\"#fb9f3a\"],[0.8888888888888888,\"#fdca26\"],[1.0,\"#f0f921\"]],\"sequentialminus\":[[0.0,\"#0d0887\"],[0.1111111111111111,\"#46039f\"],[0.2222222222222222,\"#7201a8\"],[0.3333333333333333,\"#9c179e\"],[0.4444444444444444,\"#bd3786\"],[0.5555555555555556,\"#d8576b\"],[0.6666666666666666,\"#ed7953\"],[0.7777777777777778,\"#fb9f3a\"],[0.8888888888888888,\"#fdca26\"],[1.0,\"#f0f921\"]]},\"colorway\":[\"#636efa\",\"#EF553B\",\"#00cc96\",\"#ab63fa\",\"#FFA15A\",\"#19d3f3\",\"#FF6692\",\"#B6E880\",\"#FF97FF\",\"#FECB52\"],\"font\":{\"color\":\"#2a3f5f\"},\"geo\":{\"bgcolor\":\"white\",\"lakecolor\":\"white\",\"landcolor\":\"#E5ECF6\",\"showlakes\":true,\"showland\":true,\"subunitcolor\":\"white\"},\"hoverlabel\":{\"align\":\"left\"},\"hovermode\":\"closest\",\"mapbox\":{\"style\":\"light\"},\"paper_bgcolor\":\"white\",\"plot_bgcolor\":\"#E5ECF6\",\"polar\":{\"angularaxis\":{\"gridcolor\":\"white\",\"linecolor\":\"white\",\"ticks\":\"\"},\"bgcolor\":\"#E5ECF6\",\"radialaxis\":{\"gridcolor\":\"white\",\"linecolor\":\"white\",\"ticks\":\"\"}},\"scene\":{\"xaxis\":{\"backgroundcolor\":\"#E5ECF6\",\"gridcolor\":\"white\",\"gridwidth\":2,\"linecolor\":\"white\",\"showbackground\":true,\"ticks\":\"\",\"zerolinecolor\":\"white\"},\"yaxis\":{\"backgroundcolor\":\"#E5ECF6\",\"gridcolor\":\"white\",\"gridwidth\":2,\"linecolor\":\"white\",\"showbackground\":true,\"ticks\":\"\",\"zerolinecolor\":\"white\"},\"zaxis\":{\"backgroundcolor\":\"#E5ECF6\",\"gridcolor\":\"white\",\"gridwidth\":2,\"linecolor\":\"white\",\"showbackground\":true,\"ticks\":\"\",\"zerolinecolor\":\"white\"}},\"shapedefaults\":{\"line\":{\"color\":\"#2a3f5f\"}},\"ternary\":{\"aaxis\":{\"gridcolor\":\"white\",\"linecolor\":\"white\",\"ticks\":\"\"},\"baxis\":{\"gridcolor\":\"white\",\"linecolor\":\"white\",\"ticks\":\"\"},\"bgcolor\":\"#E5ECF6\",\"caxis\":{\"gridcolor\":\"white\",\"linecolor\":\"white\",\"ticks\":\"\"}},\"title\":{\"x\":0.05},\"xaxis\":{\"automargin\":true,\"gridcolor\":\"white\",\"linecolor\":\"white\",\"ticks\":\"\",\"title\":{\"standoff\":15},\"zerolinecolor\":\"white\",\"zerolinewidth\":2},\"yaxis\":{\"automargin\":true,\"gridcolor\":\"white\",\"linecolor\":\"white\",\"ticks\":\"\",\"title\":{\"standoff\":15},\"zerolinecolor\":\"white\",\"zerolinewidth\":2}}},\"xaxis\":{\"anchor\":\"y\",\"domain\":[0.0,1.0],\"title\":{\"text\":\"year\"}},\"yaxis\":{\"anchor\":\"x\",\"domain\":[0.0,1.0],\"title\":{\"text\":\"lifeExp\"}},\"legend\":{\"title\":{\"text\":\"country\"},\"tracegroupgap\":0},\"title\":{\"text\":\"layout.hovermode='x unified'\"},\"hovermode\":\"x unified\"},                        {\"responsive\": true}                    ).then(function(){\n",
       "                            \n",
       "var gd = document.getElementById('85ab4b7e-13e6-42f3-8562-3cdf157a3acd');\n",
       "var x = new MutationObserver(function (mutations, observer) {{\n",
       "        var display = window.getComputedStyle(gd).display;\n",
       "        if (!display || display === 'none') {{\n",
       "            console.log([gd, 'removed!']);\n",
       "            Plotly.purge(gd);\n",
       "            observer.disconnect();\n",
       "        }}\n",
       "}});\n",
       "\n",
       "// Listen for the removal of the full notebook cells\n",
       "var notebookContainer = gd.closest('#notebook-container');\n",
       "if (notebookContainer) {{\n",
       "    x.observe(notebookContainer, {childList: true});\n",
       "}}\n",
       "\n",
       "// Listen for the clearing of the current output cell\n",
       "var outputEl = gd.closest('.output');\n",
       "if (outputEl) {{\n",
       "    x.observe(outputEl, {childList: true});\n",
       "}}\n",
       "\n",
       "                        })                };                });            </script>        </div>"
      ]
     },
     "metadata": {},
     "output_type": "display_data"
    }
   ],
   "source": []
  },
  {
   "cell_type": "code",
   "execution_count": null,
   "metadata": {},
   "outputs": [],
   "source": []
  }
 ],
 "metadata": {
  "kernelspec": {
   "display_name": "Python 3",
   "language": "python",
   "name": "python3"
  },
  "language_info": {
   "codemirror_mode": {
    "name": "ipython",
    "version": 3
   },
   "file_extension": ".py",
   "mimetype": "text/x-python",
   "name": "python",
   "nbconvert_exporter": "python",
   "pygments_lexer": "ipython3",
   "version": "3.6.10"
  }
 },
 "nbformat": 4,
 "nbformat_minor": 4
}
